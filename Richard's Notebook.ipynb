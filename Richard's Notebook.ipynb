{
 "cells": [
  {
   "cell_type": "code",
   "execution_count": 27,
   "metadata": {
    "collapsed": true
   },
   "outputs": [],
   "source": [
    "#######################################################################\n",
    "#####                                                             #####\n",
    "#####     SPARSE IDENTIFICATION OF NONLINEAR DYNAMICS (SINDy)     #####\n",
    "#####     Application to the Lotka-Volterra system                #####\n",
    "#####                                                             #####\n",
    "#######################################################################\n",
    "\n",
    "\"\"\"\n",
    "\n",
    "This small example illustrates the identification of a nonlinear\n",
    "dynamical system using the data-driven approach SINDy with constraints\n",
    "by Loiseau & Brunton (submitted to JFM Rapids).\n",
    "\n",
    "Note: The sklearn python package is required for this example.\n",
    "----\n",
    "\n",
    "Contact: loiseau@mech.kth.se\n",
    "\n",
    "\"\"\"\n",
    "\n",
    "\n",
    "#--> Import standard python libraries\n",
    "from math import *\n",
    "import numpy as np\n",
    "from matplotlib import pyplot as plt\n",
    "from mpl_toolkits.mplot3d import Axes3D\n",
    "\n",
    "#--> Import some features of scipy to simulate the systems\n",
    "#    or for matrix manipulation.\n",
    "from scipy.integrate import odeint\n",
    "from scipy.linalg import block_diag\n",
    "\n",
    "#--> Import the PolynomialFeatures function from the sklearn\n",
    "#    package to easily create the library of candidate functions\n",
    "#    that will be used in the sparse regression problem.\n",
    "from sklearn.preprocessing import PolynomialFeatures\n",
    "\n",
    "#--> Import the sparse identification python package containing\n",
    "#    the class to create sindy estimators.\n",
    "import sparse_identification as sp\n",
    "from sparse_identification.utils import derivative as spder\n",
    "from sparse_identification.solvers import hard_threshold_lstsq_solve\n",
    "from sparse_identification.utils import derivative\n",
    "\n",
    "#--> Defines various functions used in this script.\n",
    "\n",
    "def Lotka_Volterra(x0, r, a, time):\n",
    "    def dynamical_system(y,t):\n",
    "        dy = np.zeros_like(y)\n",
    "        for i in range(4):\n",
    "            dy[i] = r[i]*y[i]*(1-a[i][0]*y[0]-a[i][1]*y[1]-a[i][2]*y[2]-a[i][3]*y[3])\n",
    "        return dy\n",
    "\n",
    "    x = odeint(dynamical_system,x0,time,mxstep=0)\n",
    "    dt = time[1]-time[0]\n",
    "    xdot = spder(x,dt)\n",
    "\n",
    "    return x, xdot\n",
    "\n",
    "def constraints(library):\n",
    "\n",
    "    \"\"\"\n",
    "\n",
    "    This function illustrates how to impose some\n",
    "    user-defined constraints for the sparse identification.\n",
    "\n",
    "    Input\n",
    "    -----\n",
    "\n",
    "    library : library object used for the sparse identification.\n",
    "\n",
    "    Outputs\n",
    "    -------\n",
    "\n",
    "    C : two-dimensional numpy array.\n",
    "        Constraints to be imposed on the regression coefficients.\n",
    "\n",
    "    d : one-dimensional numpy array.\n",
    "        Value of the constraints.\n",
    "\n",
    "    \"\"\"\n",
    "\n",
    "    #--> Recover the number of input and output features of the library.\n",
    "    m = library.n_input_features_\n",
    "    n = library.n_output_features_\n",
    "\n",
    "    #--> Initialise the user-defined constraints matrix and vector.\n",
    "    #    In this example, two different constraints are imposed.\n",
    "    C = np.zeros((2, m*n))\n",
    "    d = np.zeros((2,1))\n",
    "\n",
    "    #--> Definition of the first constraint:\n",
    "    #    In the x-equation, one imposes that xi[2] = -xi[1]\n",
    "    #    Note: xi[0] corresponds to the bias, xi[1] to the coefficient\n",
    "    #    for x(t) and xi[2] to the one for y(t).\n",
    "    C[0, 1] = 1\n",
    "    C[0, 2] = 1\n",
    "\n",
    "    #--> Definition of the second constraint:\n",
    "    #    In the y-equation, one imposes that xi[1] = 28\n",
    "    #    Note: the n+ is because the coefficient xi[1] for\n",
    "    #    the y-equation is the n+1th entry of the regression\n",
    "    #    coefficients vector.\n",
    "    C[1, n+1] = 1\n",
    "    d[1] = 28\n",
    "\n",
    "    return C, d\n",
    "\n",
    "def Identified_Model(y, t, library, estimator) :\n",
    "\n",
    "    '''\n",
    "    Simulates the model from Sparse identification.\n",
    "\n",
    "    Inputs\n",
    "    ------\n",
    "\n",
    "    library: library object used in the sparse identification\n",
    "             (e.g. poly_lib = PolynomialFeatures(degree=3) )\n",
    "\n",
    "    estimator: estimator object obtained from the sparse identification\n",
    "\n",
    "    Output\n",
    "    ------\n",
    "\n",
    "    dy : numpy array object containing the derivatives evaluated using the\n",
    "         model identified from sparse regression.\n",
    "\n",
    "    '''\n",
    "\n",
    "    dy = np.zeros_like(y)\n",
    "\n",
    "    lib = library.fit_transform(y.reshape(1,-1))\n",
    "    Theta = block_diag(lib, lib, lib, lib)\n",
    "    dy = Theta.dot(estimator.coef_)\n",
    "\n",
    "    return dy\n",
    "\n",
    "def perturb_parameters(p, mean=0, stdev=0):\n",
    "    return p + np.random.normal(mean, stdev, size=p.shape)"
   ]
  },
  {
   "cell_type": "code",
   "execution_count": 28,
   "metadata": {
    "collapsed": true
   },
   "outputs": [],
   "source": [
    "true_r = np.array([1, 0.72, 1.53, 1.27])\n",
    "true_a = np.array([[1, 1.09, 1.52, 0], \n",
    "                  [0, 1, 0.44, 1.36], \n",
    "                  [2.33, 0, 1, 0.47], \n",
    "                  [1.21, 0.51, 0.35, 1]])"
   ]
  },
  {
   "cell_type": "code",
   "execution_count": 38,
   "metadata": {
    "collapsed": true
   },
   "outputs": [],
   "source": [
    "def simulate_parameter_perturbance(mean, stdev, max_trials=5, verbose=False):\n",
    "    #--> Sets the parameters for the Lotka-Volterra system.\n",
    "    r = true_r.copy()\n",
    "    a = true_a.copy()\n",
    "\n",
    "    t = np.linspace(0, 100, 500)\n",
    "\n",
    "    trials = 0\n",
    "\n",
    "    inferred_coeffs = []\n",
    "    r, a = perturb_parameters(true_r, mean, stdev), perturb_parameters(true_a, mean, stdev)\n",
    "    \n",
    "    if (verbose):\n",
    "        print(\"Initializing 5 trials with mean {} and stdev {}\".format(mean, stdev))\n",
    "    \n",
    "    while trials < max_trials:\n",
    "        x0 = np.random.rand(4)\n",
    "        x, dx = Lotka_Volterra(x0, r, a, t)\n",
    "        \n",
    "        # enforcing limitation on trajectory of system\n",
    "        if (np.max(np.abs(x)) > 10) or (np.any(np.isnan(x))):\n",
    "            continue\n",
    "        \n",
    "        poly_lib = PolynomialFeatures(degree=2, include_bias=True)\n",
    "        lib = poly_lib.fit_transform(x)\n",
    "        Theta = block_diag(lib, lib, lib, lib)\n",
    "        n_lib = poly_lib.n_output_features_\n",
    "\n",
    "        b = dx.flatten(order='F')\n",
    "        A = Theta\n",
    "\n",
    "        C, d = constraints(poly_lib)\n",
    "\n",
    "        estimator = sp.sindy(l1=0.01, solver='lstsq')\n",
    "        estimator.fit(A, b)\n",
    "        coeffs = hard_threshold_lstsq_solve(A, b)\n",
    "        \n",
    "        # strictly enforcing some limitation on the size of inferred coefficients\n",
    "        if (np.max(np.abs(coeffs)) > 10):\n",
    "            continue\n",
    "        \n",
    "        inferred_coeffs.append(coeffs)\n",
    "\n",
    "        trials += 1\n",
    "        if (trials % 50 == 0):\n",
    "            print(trials)\n",
    "        \n",
    "    return inferred_coeffs"
   ]
  },
  {
   "cell_type": "code",
   "execution_count": 39,
   "metadata": {},
   "outputs": [],
   "source": [
    "'''\n",
    "Calculates difference in perturbed parameters from true parameters using L2 norm\n",
    "'''\n",
    "def calculate_parameter_difference(mean, stdev, max_trials=5):\n",
    "    inferred = simulate_parameter_perturbance(0, 0, max_trials)\n",
    "    inferred_true_parameters = sum(inferred)/len(inferred)\n",
    "    \n",
    "    perturbed = simulate_parameter_perturbance(mean, stdev, max_trials)\n",
    "    inferred_perturbed_parameters = sum(perturbed)/len(perturbed)\n",
    "    \n",
    "    return np.linalg.norm(inferred_perturbed_parameters - inferred_true_parameters)"
   ]
  },
  {
   "cell_type": "code",
   "execution_count": 40,
   "metadata": {},
   "outputs": [
    {
     "name": "stderr",
     "output_type": "stream",
     "text": [
      "/Users/richard/anaconda/envs/py35/lib/python3.5/site-packages/cvxopt/coneprog.py:4331: FutureWarning: elementwise comparison failed; returning scalar instead, but in the future will perform elementwise comparison\n",
      "  if solver == 'mosek':\n"
     ]
    },
    {
     "data": {
      "text/plain": [
       "5.4108459473931827"
      ]
     },
     "execution_count": 40,
     "metadata": {},
     "output_type": "execute_result"
    }
   ],
   "source": [
    "calculate_parameter_difference(0, 0.001)"
   ]
  },
  {
   "cell_type": "code",
   "execution_count": 45,
   "metadata": {},
   "outputs": [
    {
     "name": "stdout",
     "output_type": "stream",
     "text": [
      "Starting stdev of 1.0\n"
     ]
    },
    {
     "name": "stderr",
     "output_type": "stream",
     "text": [
      "/Users/richard/anaconda/envs/py35/lib/python3.5/site-packages/cvxopt/coneprog.py:4331: FutureWarning: elementwise comparison failed; returning scalar instead, but in the future will perform elementwise comparison\n",
      "  if solver == 'mosek':\n"
     ]
    },
    {
     "name": "stdout",
     "output_type": "stream",
     "text": [
      "50\n"
     ]
    },
    {
     "name": "stderr",
     "output_type": "stream",
     "text": [
      "/Users/richard/anaconda/envs/py35/lib/python3.5/site-packages/scipy/integrate/odepack.py:218: ODEintWarning: Excess work done on this call (perhaps wrong Dfun type). Run with full_output = 1 to get quantitative information.\n",
      "  warnings.warn(warning_msg, ODEintWarning)\n"
     ]
    },
    {
     "ename": "KeyboardInterrupt",
     "evalue": "",
     "output_type": "error",
     "traceback": [
      "\u001b[0;31m---------------------------------------------------------------------------\u001b[0m",
      "\u001b[0;31mKeyboardInterrupt\u001b[0m                         Traceback (most recent call last)",
      "\u001b[0;32m<ipython-input-45-e826c51317f0>\u001b[0m in \u001b[0;36m<module>\u001b[0;34m()\u001b[0m\n\u001b[1;32m      6\u001b[0m     \u001b[0;32mwhile\u001b[0m \u001b[0;34m(\u001b[0m\u001b[0;32mnot\u001b[0m \u001b[0mdiff\u001b[0m\u001b[0;34m)\u001b[0m\u001b[0;34m:\u001b[0m\u001b[0;34m\u001b[0m\u001b[0m\n\u001b[1;32m      7\u001b[0m         \u001b[0;32mtry\u001b[0m\u001b[0;34m:\u001b[0m\u001b[0;34m\u001b[0m\u001b[0m\n\u001b[0;32m----> 8\u001b[0;31m             \u001b[0mdiff\u001b[0m \u001b[0;34m=\u001b[0m \u001b[0mcalculate_parameter_difference\u001b[0m\u001b[0;34m(\u001b[0m\u001b[0;36m0\u001b[0m\u001b[0;34m,\u001b[0m \u001b[0mstdev\u001b[0m\u001b[0;34m,\u001b[0m \u001b[0mmax_trials\u001b[0m\u001b[0;34m=\u001b[0m\u001b[0;36m50\u001b[0m\u001b[0;34m)\u001b[0m\u001b[0;34m\u001b[0m\u001b[0m\n\u001b[0m\u001b[1;32m      9\u001b[0m         \u001b[0;32mexcept\u001b[0m \u001b[0mException\u001b[0m \u001b[0;32mas\u001b[0m \u001b[0me\u001b[0m\u001b[0;34m:\u001b[0m\u001b[0;34m\u001b[0m\u001b[0m\n\u001b[1;32m     10\u001b[0m             \u001b[0;32mpass\u001b[0m\u001b[0;34m\u001b[0m\u001b[0m\n",
      "\u001b[0;32m<ipython-input-39-1451f5fa2058>\u001b[0m in \u001b[0;36mcalculate_parameter_difference\u001b[0;34m(mean, stdev, max_trials)\u001b[0m\n\u001b[1;32m      6\u001b[0m     \u001b[0minferred_true_parameters\u001b[0m \u001b[0;34m=\u001b[0m \u001b[0msum\u001b[0m\u001b[0;34m(\u001b[0m\u001b[0minferred\u001b[0m\u001b[0;34m)\u001b[0m\u001b[0;34m/\u001b[0m\u001b[0mlen\u001b[0m\u001b[0;34m(\u001b[0m\u001b[0minferred\u001b[0m\u001b[0;34m)\u001b[0m\u001b[0;34m\u001b[0m\u001b[0m\n\u001b[1;32m      7\u001b[0m \u001b[0;34m\u001b[0m\u001b[0m\n\u001b[0;32m----> 8\u001b[0;31m     \u001b[0mperturbed\u001b[0m \u001b[0;34m=\u001b[0m \u001b[0msimulate_parameter_perturbance\u001b[0m\u001b[0;34m(\u001b[0m\u001b[0mmean\u001b[0m\u001b[0;34m,\u001b[0m \u001b[0mstdev\u001b[0m\u001b[0;34m,\u001b[0m \u001b[0mmax_trials\u001b[0m\u001b[0;34m)\u001b[0m\u001b[0;34m\u001b[0m\u001b[0m\n\u001b[0m\u001b[1;32m      9\u001b[0m     \u001b[0minferred_perturbed_parameters\u001b[0m \u001b[0;34m=\u001b[0m \u001b[0msum\u001b[0m\u001b[0;34m(\u001b[0m\u001b[0mperturbed\u001b[0m\u001b[0;34m)\u001b[0m\u001b[0;34m/\u001b[0m\u001b[0mlen\u001b[0m\u001b[0;34m(\u001b[0m\u001b[0mperturbed\u001b[0m\u001b[0;34m)\u001b[0m\u001b[0;34m\u001b[0m\u001b[0m\n\u001b[1;32m     10\u001b[0m \u001b[0;34m\u001b[0m\u001b[0m\n",
      "\u001b[0;32m<ipython-input-38-4846db54f6d9>\u001b[0m in \u001b[0;36msimulate_parameter_perturbance\u001b[0;34m(mean, stdev, max_trials, verbose)\u001b[0m\n\u001b[1;32m     16\u001b[0m     \u001b[0;32mwhile\u001b[0m \u001b[0mtrials\u001b[0m \u001b[0;34m<\u001b[0m \u001b[0mmax_trials\u001b[0m\u001b[0;34m:\u001b[0m\u001b[0;34m\u001b[0m\u001b[0m\n\u001b[1;32m     17\u001b[0m         \u001b[0mx0\u001b[0m \u001b[0;34m=\u001b[0m \u001b[0mnp\u001b[0m\u001b[0;34m.\u001b[0m\u001b[0mrandom\u001b[0m\u001b[0;34m.\u001b[0m\u001b[0mrand\u001b[0m\u001b[0;34m(\u001b[0m\u001b[0;36m4\u001b[0m\u001b[0;34m)\u001b[0m\u001b[0;34m\u001b[0m\u001b[0m\n\u001b[0;32m---> 18\u001b[0;31m         \u001b[0mx\u001b[0m\u001b[0;34m,\u001b[0m \u001b[0mdx\u001b[0m \u001b[0;34m=\u001b[0m \u001b[0mLotka_Volterra\u001b[0m\u001b[0;34m(\u001b[0m\u001b[0mx0\u001b[0m\u001b[0;34m,\u001b[0m \u001b[0mr\u001b[0m\u001b[0;34m,\u001b[0m \u001b[0ma\u001b[0m\u001b[0;34m,\u001b[0m \u001b[0mt\u001b[0m\u001b[0;34m)\u001b[0m\u001b[0;34m\u001b[0m\u001b[0m\n\u001b[0m\u001b[1;32m     19\u001b[0m \u001b[0;34m\u001b[0m\u001b[0m\n\u001b[1;32m     20\u001b[0m         \u001b[0;31m# enforcing limitation on trajectory of system\u001b[0m\u001b[0;34m\u001b[0m\u001b[0;34m\u001b[0m\u001b[0m\n",
      "\u001b[0;32m<ipython-input-27-09e589864dd5>\u001b[0m in \u001b[0;36mLotka_Volterra\u001b[0;34m(x0, r, a, time)\u001b[0m\n\u001b[1;32m     52\u001b[0m         \u001b[0;32mreturn\u001b[0m \u001b[0mdy\u001b[0m\u001b[0;34m\u001b[0m\u001b[0m\n\u001b[1;32m     53\u001b[0m \u001b[0;34m\u001b[0m\u001b[0m\n\u001b[0;32m---> 54\u001b[0;31m     \u001b[0mx\u001b[0m \u001b[0;34m=\u001b[0m \u001b[0modeint\u001b[0m\u001b[0;34m(\u001b[0m\u001b[0mdynamical_system\u001b[0m\u001b[0;34m,\u001b[0m\u001b[0mx0\u001b[0m\u001b[0;34m,\u001b[0m\u001b[0mtime\u001b[0m\u001b[0;34m,\u001b[0m\u001b[0mmxstep\u001b[0m\u001b[0;34m=\u001b[0m\u001b[0;36m0\u001b[0m\u001b[0;34m)\u001b[0m\u001b[0;34m\u001b[0m\u001b[0m\n\u001b[0m\u001b[1;32m     55\u001b[0m     \u001b[0mdt\u001b[0m \u001b[0;34m=\u001b[0m \u001b[0mtime\u001b[0m\u001b[0;34m[\u001b[0m\u001b[0;36m1\u001b[0m\u001b[0;34m]\u001b[0m\u001b[0;34m-\u001b[0m\u001b[0mtime\u001b[0m\u001b[0;34m[\u001b[0m\u001b[0;36m0\u001b[0m\u001b[0;34m]\u001b[0m\u001b[0;34m\u001b[0m\u001b[0m\n\u001b[1;32m     56\u001b[0m     \u001b[0mxdot\u001b[0m \u001b[0;34m=\u001b[0m \u001b[0mspder\u001b[0m\u001b[0;34m(\u001b[0m\u001b[0mx\u001b[0m\u001b[0;34m,\u001b[0m\u001b[0mdt\u001b[0m\u001b[0;34m)\u001b[0m\u001b[0;34m\u001b[0m\u001b[0m\n",
      "\u001b[0;32m/Users/richard/anaconda/envs/py35/lib/python3.5/site-packages/scipy/integrate/odepack.py\u001b[0m in \u001b[0;36modeint\u001b[0;34m(func, y0, t, args, Dfun, col_deriv, full_output, ml, mu, rtol, atol, tcrit, h0, hmax, hmin, ixpr, mxstep, mxhnil, mxordn, mxords, printmessg)\u001b[0m\n\u001b[1;32m    213\u001b[0m     output = _odepack.odeint(func, y0, t, args, Dfun, col_deriv, ml, mu,\n\u001b[1;32m    214\u001b[0m                              \u001b[0mfull_output\u001b[0m\u001b[0;34m,\u001b[0m \u001b[0mrtol\u001b[0m\u001b[0;34m,\u001b[0m \u001b[0matol\u001b[0m\u001b[0;34m,\u001b[0m \u001b[0mtcrit\u001b[0m\u001b[0;34m,\u001b[0m \u001b[0mh0\u001b[0m\u001b[0;34m,\u001b[0m \u001b[0mhmax\u001b[0m\u001b[0;34m,\u001b[0m \u001b[0mhmin\u001b[0m\u001b[0;34m,\u001b[0m\u001b[0;34m\u001b[0m\u001b[0m\n\u001b[0;32m--> 215\u001b[0;31m                              ixpr, mxstep, mxhnil, mxordn, mxords)\n\u001b[0m\u001b[1;32m    216\u001b[0m     \u001b[0;32mif\u001b[0m \u001b[0moutput\u001b[0m\u001b[0;34m[\u001b[0m\u001b[0;34m-\u001b[0m\u001b[0;36m1\u001b[0m\u001b[0;34m]\u001b[0m \u001b[0;34m<\u001b[0m \u001b[0;36m0\u001b[0m\u001b[0;34m:\u001b[0m\u001b[0;34m\u001b[0m\u001b[0m\n\u001b[1;32m    217\u001b[0m         \u001b[0mwarning_msg\u001b[0m \u001b[0;34m=\u001b[0m \u001b[0m_msgs\u001b[0m\u001b[0;34m[\u001b[0m\u001b[0moutput\u001b[0m\u001b[0;34m[\u001b[0m\u001b[0;34m-\u001b[0m\u001b[0;36m1\u001b[0m\u001b[0;34m]\u001b[0m\u001b[0;34m]\u001b[0m \u001b[0;34m+\u001b[0m \u001b[0;34m\" Run with full_output = 1 to get quantitative information.\"\u001b[0m\u001b[0;34m\u001b[0m\u001b[0m\n",
      "\u001b[0;32m<ipython-input-27-09e589864dd5>\u001b[0m in \u001b[0;36mdynamical_system\u001b[0;34m(y, t)\u001b[0m\n\u001b[1;32m     49\u001b[0m         \u001b[0mdy\u001b[0m \u001b[0;34m=\u001b[0m \u001b[0mnp\u001b[0m\u001b[0;34m.\u001b[0m\u001b[0mzeros_like\u001b[0m\u001b[0;34m(\u001b[0m\u001b[0my\u001b[0m\u001b[0;34m)\u001b[0m\u001b[0;34m\u001b[0m\u001b[0m\n\u001b[1;32m     50\u001b[0m         \u001b[0;32mfor\u001b[0m \u001b[0mi\u001b[0m \u001b[0;32min\u001b[0m \u001b[0mrange\u001b[0m\u001b[0;34m(\u001b[0m\u001b[0;36m4\u001b[0m\u001b[0;34m)\u001b[0m\u001b[0;34m:\u001b[0m\u001b[0;34m\u001b[0m\u001b[0m\n\u001b[0;32m---> 51\u001b[0;31m             \u001b[0mdy\u001b[0m\u001b[0;34m[\u001b[0m\u001b[0mi\u001b[0m\u001b[0;34m]\u001b[0m \u001b[0;34m=\u001b[0m \u001b[0mr\u001b[0m\u001b[0;34m[\u001b[0m\u001b[0mi\u001b[0m\u001b[0;34m]\u001b[0m\u001b[0;34m*\u001b[0m\u001b[0my\u001b[0m\u001b[0;34m[\u001b[0m\u001b[0mi\u001b[0m\u001b[0;34m]\u001b[0m\u001b[0;34m*\u001b[0m\u001b[0;34m(\u001b[0m\u001b[0;36m1\u001b[0m\u001b[0;34m-\u001b[0m\u001b[0ma\u001b[0m\u001b[0;34m[\u001b[0m\u001b[0mi\u001b[0m\u001b[0;34m]\u001b[0m\u001b[0;34m[\u001b[0m\u001b[0;36m0\u001b[0m\u001b[0;34m]\u001b[0m\u001b[0;34m*\u001b[0m\u001b[0my\u001b[0m\u001b[0;34m[\u001b[0m\u001b[0;36m0\u001b[0m\u001b[0;34m]\u001b[0m\u001b[0;34m-\u001b[0m\u001b[0ma\u001b[0m\u001b[0;34m[\u001b[0m\u001b[0mi\u001b[0m\u001b[0;34m]\u001b[0m\u001b[0;34m[\u001b[0m\u001b[0;36m1\u001b[0m\u001b[0;34m]\u001b[0m\u001b[0;34m*\u001b[0m\u001b[0my\u001b[0m\u001b[0;34m[\u001b[0m\u001b[0;36m1\u001b[0m\u001b[0;34m]\u001b[0m\u001b[0;34m-\u001b[0m\u001b[0ma\u001b[0m\u001b[0;34m[\u001b[0m\u001b[0mi\u001b[0m\u001b[0;34m]\u001b[0m\u001b[0;34m[\u001b[0m\u001b[0;36m2\u001b[0m\u001b[0;34m]\u001b[0m\u001b[0;34m*\u001b[0m\u001b[0my\u001b[0m\u001b[0;34m[\u001b[0m\u001b[0;36m2\u001b[0m\u001b[0;34m]\u001b[0m\u001b[0;34m-\u001b[0m\u001b[0ma\u001b[0m\u001b[0;34m[\u001b[0m\u001b[0mi\u001b[0m\u001b[0;34m]\u001b[0m\u001b[0;34m[\u001b[0m\u001b[0;36m3\u001b[0m\u001b[0;34m]\u001b[0m\u001b[0;34m*\u001b[0m\u001b[0my\u001b[0m\u001b[0;34m[\u001b[0m\u001b[0;36m3\u001b[0m\u001b[0;34m]\u001b[0m\u001b[0;34m)\u001b[0m\u001b[0;34m\u001b[0m\u001b[0m\n\u001b[0m\u001b[1;32m     52\u001b[0m         \u001b[0;32mreturn\u001b[0m \u001b[0mdy\u001b[0m\u001b[0;34m\u001b[0m\u001b[0m\n\u001b[1;32m     53\u001b[0m \u001b[0;34m\u001b[0m\u001b[0m\n",
      "\u001b[0;31mKeyboardInterrupt\u001b[0m: "
     ]
    }
   ],
   "source": [
    "parameter_l2_norm = []\n",
    "stdevs = np.logspace(0, 10, 50)\n",
    "for stdev in stdevs:\n",
    "    print(\"Starting stdev of {}\".format(stdev))\n",
    "    diff = None\n",
    "    while (not diff):\n",
    "        try:\n",
    "            diff = calculate_parameter_difference(0, stdev, max_trials=50)\n",
    "        except Exception as e:\n",
    "            pass\n",
    "    parameter_l2_norm.append(diff)"
   ]
  },
  {
   "cell_type": "code",
   "execution_count": 43,
   "metadata": {},
   "outputs": [
    {
     "data": {
      "text/plain": [
       "<matplotlib.text.Text at 0x11004dd30>"
      ]
     },
     "execution_count": 43,
     "metadata": {},
     "output_type": "execute_result"
    },
    {
     "data": {
      "image/png": "[encoded data removed]",
      "text/plain": [
       "<matplotlib.figure.Figure at 0x11e1d6be0>"
      ]
     },
     "metadata": {},
     "output_type": "display_data"
    }
   ],
   "source": [
    "%matplotlib inline\n",
    "\n",
    "plt.plot(stdevs[:25], parameter_l2_norm)\n",
    "plt.xscale('log')\n",
    "plt.xlabel('$\\sigma$')\n",
    "plt.ylabel('$L_{2}$')"
   ]
  },
  {
   "cell_type": "code",
   "execution_count": null,
   "metadata": {
    "collapsed": true
   },
   "outputs": [],
   "source": []
  }
 ],
 "metadata": {
  "kernelspec": {
   "display_name": "Python 3",
   "language": "python",
   "name": "python3"
  },
  "language_info": {
   "codemirror_mode": {
    "name": "ipython",
    "version": 3
   },
   "file_extension": ".py",
   "mimetype": "text/x-python",
   "name": "python",
   "nbconvert_exporter": "python",
   "pygments_lexer": "ipython3",
   "version": "3.5.3"
  }
 },
 "nbformat": 4,
 "nbformat_minor": 2
}
