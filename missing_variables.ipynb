{
 "cells": [
  {
   "cell_type": "markdown",
   "metadata": {},
   "source": [
    "## Lorenz System with Missing Variables"
   ]
  },
  {
   "cell_type": "code",
   "execution_count": null,
   "metadata": {
    "collapsed": true
   },
   "outputs": [],
   "source": [
    "# --> Simulating the Lorenz system.\n",
    "import numpy as np\n",
    "import matplotlib.pyplot as plt\n",
    "from matplotlib.gridspec import GridSpec\n",
    "import matplotlib.patches as patches\n",
    "from mpl_toolkits.mplot3d import Axes3D\n",
    "from Lorenz import Lorenz\n",
    "\n",
    "# --> Sets the parameters to their classical values.\n",
    "sigma, rho, beta = 10., 28., 8./3.\n",
    "\n",
    "# --> Integration time.\n",
    "t = np.linspace(0, 20, 2000)\n",
    "\n",
    "# --> Produce the date to be used in the sparse identification.\n",
    "x0 = np.array([-8., 7., 27.]) # Initial condition.\n",
    "x, dx = Lorenz(x0, sigma, rho, beta, t)\n",
    "\n",
    "# --> Slightly different initial condition to highlight the chaotic nature.\n",
    "y0 = np.array([-8.01, 7., 27.]) # Initial condition.\n",
    "y, dy = Lorenz(y0, sigma, rho, beta, t)"
   ]
  },
  {
   "cell_type": "code",
   "execution_count": null,
   "metadata": {
    "collapsed": true
   },
   "outputs": [],
   "source": [
    "# --> Plot time traces of the two trajectories as well as the corresponding stange attractor.\n",
    "w = 10\n",
    "fig = plt.figure(figsize=(1.5*w, w/2))\n",
    "gs = GridSpec(3, 6)\n",
    "\n",
    "ax0 = fig.add_subplot(gs[0, :3])\n",
    "ax0.plot(t, x[:, 0])\n",
    "ax0.plot(t, y[:, 0])\n",
    "ax0.set_ylabel('x')\n",
    "ax0.set_xticks([])\n",
    "ax0.set_xlim(0, 20)\n",
    "\n",
    "ax1 = fig.add_subplot(gs[1, :3])\n",
    "ax1.plot(t, x[:, 1])\n",
    "ax1.plot(t, y[:, 1])\n",
    "ax1.set_ylabel('y')\n",
    "ax1.set_xticks([])\n",
    "ax1.set_xlim(0, 20)\n",
    "\n",
    "ax2 = fig.add_subplot(gs[2, :3])\n",
    "ax2.plot(t, x[:, 2])\n",
    "ax2.plot(t, y[:, 2])\n",
    "ax2.set_ylabel('z')\n",
    "ax2.set_xlabel('t')\n",
    "ax2.set_xlim(0, 20)\n",
    "\n",
    "ax3 = fig.add_subplot(gs[:, 3:], projection='3d')\n",
    "ax3.plot(x[:, 0], x[:, 1], x[:, 2])\n",
    "ax3.plot(y[:, 0], y[:, 1], y[:, 2])\n",
    "ax3.set_xlabel('x', labelpad=10)\n",
    "ax3.set_ylabel('y')\n",
    "ax3.set_zlabel('z')\n",
    "plt.show()"
   ]
  },
  {
   "cell_type": "markdown",
   "metadata": {},
   "source": [
    "### Original Algorithm"
   ]
  },
  {
   "cell_type": "code",
   "execution_count": null,
   "metadata": {
    "collapsed": true
   },
   "outputs": [],
   "source": [
    "# --> Creation of the library Theta.\n",
    "from sklearn.preprocessing import PolynomialFeatures\n",
    "library = PolynomialFeatures(degree=2, include_bias=True)\n",
    "Theta = library.fit_transform(x)\n",
    "n_lib = library.n_output_features_\n",
    "\n",
    "from scipy.linalg import block_diag\n",
    "A = block_diag(Theta, Theta, Theta)\n",
    "b = dx.flatten(order='F')"
   ]
  },
  {
   "cell_type": "code",
   "execution_count": null,
   "metadata": {
    "collapsed": true
   },
   "outputs": [],
   "source": [
    "# --> Sequentially hard-thresholded estimator.\n",
    "from sparse_identification import sindy\n",
    "from scipy.linalg import block_diag\n",
    "\n",
    "shols = sindy(l1=0.01, solver='lstsq')\n",
    "\n",
    "# --> Fit the OLS model.\n",
    "shols.fit(A, b)\n",
    "print('Total number of possible terms :', shols.coef_.size)\n",
    "print('Number of non-zero coefficients :', np.count_nonzero(shols.coef_))"
   ]
  },
  {
   "cell_type": "code",
   "execution_count": null,
   "metadata": {
    "collapsed": true
   },
   "outputs": [],
   "source": [
    "print(\"Identified equation for x : \\n\")\n",
    "print(shols.coef_[:n_lib], \"\\n\")\n",
    "print(\"\\n Identified equation for y : \\n\")\n",
    "print(shols.coef_[n_lib:2*n_lib], \"\\n\")\n",
    "print(\"\\n Identified equation for y : \\n\")\n",
    "print(shols.coef_[2*n_lib:3*n_lib], \"\\n\")"
   ]
  },
  {
   "cell_type": "code",
   "execution_count": null,
   "metadata": {
    "collapsed": true
   },
   "outputs": [],
   "source": [
    "# Case where one of the variables is missing\n",
    "x_trunc = x[:, :2]\n",
    "dx_trunc = x[:, :2]\n",
    "\n",
    "from sklearn.preprocessing import PolynomialFeatures\n",
    "library = PolynomialFeatures(degree=5, include_bias=True)\n",
    "Theta = library.fit_transform(x_trunc)\n",
    "n_lib = library.n_output_features_\n",
    "\n",
    "from scipy.linalg import block_diag\n",
    "A_trunc = block_diag(Theta, Theta)\n",
    "b_trunc = dx_trunc.flatten(order='F')\n",
    "\n",
    "shols_trunc = sindy(l1=0.01, solver='lstsq')\n",
    "\n",
    "# --> Fit the OLS model to truncated data\n",
    "shols_trunc.fit(A_trunc, b_trunc)\n",
    "print('Total number of possible terms :', shols_trunc.coef_.size)\n",
    "print('Number of non-zero coefficients :', np.count_nonzero(shols_trunc.coef_))"
   ]
  },
  {
   "cell_type": "code",
   "execution_count": null,
   "metadata": {
    "collapsed": true
   },
   "outputs": [],
   "source": [
    "print(\"Identified equation for x : \\n\")\n",
    "print(shols.coef_[:n_lib], \"\\n\")\n",
    "print(\"\\n Identified equation for y : \\n\")\n",
    "print(shols.coef_[n_lib:2*n_lib], \"\\n\")"
   ]
  },
  {
   "cell_type": "markdown",
   "metadata": {},
   "source": [
    "### New Algorithm for Missing Variables applied to Lotka-Volterra System"
   ]
  },
  {
   "cell_type": "markdown",
   "metadata": {},
   "source": [
    "We have the Lotka-Volterra system\n",
    "\\begin{align*}\n",
    "\\dot{x} &= x(1 - y) \\\\\n",
    "\\dot{y} &= y(-1 + x - z) \\\\\n",
    "\\dot{z} &= z(-1 + y)\n",
    "\\end{align*}\n",
    "with initial conditions $[x(0), y(0), z(0)] = [0.5, 1, 2]$"
   ]
  },
  {
   "cell_type": "code",
   "execution_count": 35,
   "metadata": {},
   "outputs": [
    {
     "name": "stderr",
     "output_type": "stream",
     "text": [
      "/home/alexander/anaconda3/lib/python3.6/site-packages/scipy/integrate/odepack.py:218: ODEintWarning: Excess work done on this call (perhaps wrong Dfun type). Run with full_output = 1 to get quantitative information.\n",
      "  warnings.warn(warning_msg, ODEintWarning)\n"
     ]
    }
   ],
   "source": [
    "import numpy as np\n",
    "np.random.seed(1337)\n",
    "import matplotlib.pyplot as plt\n",
    "from matplotlib.gridspec import GridSpec\n",
    "import matplotlib.patches as patches\n",
    "from mpl_toolkits.mplot3d import Axes3D\n",
    "from Lotka_Volterra import Lotka_Volterra\n",
    "\n",
    "alpha = np.array([1, -1, -1])\n",
    "beta = np.array([[0, -1, 0], [1, 0, -1], [0, 1, 0]])\n",
    "t = np.linspace(0, 5, 2000)\n",
    "trajectories = []\n",
    "total = 0\n",
    "while total < 20:\n",
    "    x0 = np.random.uniform(-2, 2, 3) # Initial condition.\n",
    "    x, dx = Lotka_Volterra(x0, alpha, beta, t)\n",
    "    if np.max(np.abs(x)) > 10:\n",
    "        continue\n",
    "    trajectories.append(x)\n",
    "    total += 1\n",
    "trajectories = np.array(trajectories)"
   ]
  },
  {
   "cell_type": "code",
   "execution_count": 38,
   "metadata": {
    "collapsed": true
   },
   "outputs": [],
   "source": [
    "# Case where one of the variables is missing\n",
    "x_trunc = trajectories[:, :, :2]\n",
    "dt = t[1] - t[0]\n",
    "l1 = 0.01\n",
    "degree = 2\n",
    "num_coeffs = 10 # Each Lotka-Volterra system has at most four nonzero coefficients"
   ]
  },
  {
   "cell_type": "code",
   "execution_count": 39,
   "metadata": {},
   "outputs": [
    {
     "name": "stdout",
     "output_type": "stream",
     "text": [
      "On iteration 0, residual is 93320.22045130731\n"
     ]
    },
    {
     "name": "stderr",
     "output_type": "stream",
     "text": [
      "/home/alexander/anaconda3/lib/python3.6/site-packages/scipy/integrate/odepack.py:218: ODEintWarning: Excess work done on this call (perhaps wrong Dfun type). Run with full_output = 1 to get quantitative information.\n",
      "  warnings.warn(warning_msg, ODEintWarning)\n"
     ]
    },
    {
     "name": "stdout",
     "output_type": "stream",
     "text": [
      "On iteration 100, residual is 93320.22105199778\n"
     ]
    },
    {
     "name": "stderr",
     "output_type": "stream",
     "text": [
      "/home/alexander/anaconda3/lib/python3.6/site-packages/scipy/integrate/odepack.py:218: ODEintWarning: Excess work done on this call (perhaps wrong Dfun type). Run with full_output = 1 to get quantitative information.\n",
      "  warnings.warn(warning_msg, ODEintWarning)\n"
     ]
    },
    {
     "name": "stdout",
     "output_type": "stream",
     "text": [
      "On iteration 200, residual is 72273.71699128239\n",
      "On iteration 300, residual is 54565.95445338145\n",
      "On iteration 400, residual is 46794.550546258855\n",
      "On iteration 500, residual is 42660.61319369686\n",
      "On iteration 600, residual is 39533.667433413895\n",
      "On iteration 700, residual is 34491.56243730589\n"
     ]
    },
    {
     "name": "stderr",
     "output_type": "stream",
     "text": [
      "/home/alexander/anaconda3/lib/python3.6/site-packages/scipy/integrate/odepack.py:218: ODEintWarning: Excess work done on this call (perhaps wrong Dfun type). Run with full_output = 1 to get quantitative information.\n",
      "  warnings.warn(warning_msg, ODEintWarning)\n"
     ]
    },
    {
     "name": "stdout",
     "output_type": "stream",
     "text": [
      "On iteration 800, residual is 34015.75014154393\n",
      "On iteration 900, residual is 28843.29511586326\n",
      "On iteration 1000, residual is 27675.208182650364\n",
      "On iteration 1100, residual is 26545.006853967378\n",
      "On iteration 1200, residual is 30400.693690290966\n",
      "On iteration 1300, residual is 25711.63024797838\n",
      "On iteration 1400, residual is 25530.623340429156\n",
      "On iteration 1500, residual is 25464.361988879467\n",
      "On iteration 1600, residual is 25194.758507122275\n",
      "On iteration 1700, residual is 23166.47536179826\n",
      "On iteration 1800, residual is 21813.32734591823\n",
      "On iteration 1900, residual is 2.844074312004076e+27\n"
     ]
    },
    {
     "name": "stderr",
     "output_type": "stream",
     "text": [
      "/home/alexander/anaconda3/lib/python3.6/site-packages/scipy/integrate/odepack.py:218: ODEintWarning: Excess work done on this call (perhaps wrong Dfun type). Run with full_output = 1 to get quantitative information.\n",
      "  warnings.warn(warning_msg, ODEintWarning)\n"
     ]
    },
    {
     "name": "stdout",
     "output_type": "stream",
     "text": [
      "On iteration 2000, residual is 19193.910692653415\n"
     ]
    },
    {
     "name": "stderr",
     "output_type": "stream",
     "text": [
      "/home/alexander/anaconda3/lib/python3.6/site-packages/scipy/integrate/odepack.py:218: ODEintWarning: Excess work done on this call (perhaps wrong Dfun type). Run with full_output = 1 to get quantitative information.\n",
      "  warnings.warn(warning_msg, ODEintWarning)\n"
     ]
    },
    {
     "name": "stdout",
     "output_type": "stream",
     "text": [
      "On iteration 2100, residual is 19193.91118992805\n"
     ]
    },
    {
     "name": "stderr",
     "output_type": "stream",
     "text": [
      "/home/alexander/anaconda3/lib/python3.6/site-packages/scipy/integrate/odepack.py:218: ODEintWarning: Excess work done on this call (perhaps wrong Dfun type). Run with full_output = 1 to get quantitative information.\n",
      "  warnings.warn(warning_msg, ODEintWarning)\n"
     ]
    },
    {
     "name": "stdout",
     "output_type": "stream",
     "text": [
      "On iteration 2200, residual is 18629.241691975272\n",
      "On iteration 2300, residual is 17902.49053838076\n",
      "On iteration 2400, residual is 17191.46060712519\n",
      "On iteration 2500, residual is 16358.018164641868\n",
      "On iteration 2600, residual is 16037.456273814678\n",
      "On iteration 2700, residual is 15079.3924992379\n",
      "On iteration 2800, residual is 14435.385026156244\n"
     ]
    },
    {
     "name": "stderr",
     "output_type": "stream",
     "text": [
      "/home/alexander/anaconda3/lib/python3.6/site-packages/scipy/integrate/odepack.py:218: ODEintWarning: Excess work done on this call (perhaps wrong Dfun type). Run with full_output = 1 to get quantitative information.\n",
      "  warnings.warn(warning_msg, ODEintWarning)\n"
     ]
    },
    {
     "name": "stdout",
     "output_type": "stream",
     "text": [
      "On iteration 2900, residual is 14173.25354437281\n"
     ]
    },
    {
     "name": "stderr",
     "output_type": "stream",
     "text": [
      "/home/alexander/anaconda3/lib/python3.6/site-packages/scipy/integrate/odepack.py:218: ODEintWarning: Excess work done on this call (perhaps wrong Dfun type). Run with full_output = 1 to get quantitative information.\n",
      "  warnings.warn(warning_msg, ODEintWarning)\n"
     ]
    },
    {
     "name": "stdout",
     "output_type": "stream",
     "text": [
      "Result after this step:\n",
      "array([  1.46193236e-01,   7.80066046e-01,  -4.29293400e-04,\n",
      "        -9.93441919e-02,  -2.00034746e-01,  -3.03042842e-01,\n",
      "         3.71124459e-01,  -2.26832804e-01,   1.42797418e-01,\n",
      "        -8.16239766e-02,  -8.13181103e-02,  -1.36372478e-02,\n",
      "        -1.07615824e+00,  -8.10440077e-02,   3.52152328e-01,\n",
      "         1.91899292e-01,  -3.72284267e-01,  -1.44938580e-01,\n",
      "        -2.24734229e-01,  -1.34326984e-01,   3.37338126e-01,\n",
      "         1.05637661e+00,  -3.25439154e-01,  -6.50213034e-01,\n",
      "         5.42340699e-02,  -1.26757118e+00,  -3.04186710e-01,\n",
      "         9.51728051e-02,  -1.04169447e+00,  -3.87882975e-01])\n",
      "Restarting process after removing extraneous coefficients...\n",
      "On iteration 0, residual is 14159.241018311437\n",
      "On iteration 100, residual is 14014.114121349963\n"
     ]
    },
    {
     "name": "stderr",
     "output_type": "stream",
     "text": [
      "/home/alexander/anaconda3/lib/python3.6/site-packages/scipy/integrate/odepack.py:218: ODEintWarning: Excess work done on this call (perhaps wrong Dfun type). Run with full_output = 1 to get quantitative information.\n",
      "  warnings.warn(warning_msg, ODEintWarning)\n"
     ]
    },
    {
     "name": "stdout",
     "output_type": "stream",
     "text": [
      "On iteration 200, residual is 13854.624461369343\n",
      "On iteration 300, residual is 13714.255309214734\n",
      "On iteration 400, residual is 3.3772333265650093e+27\n",
      "On iteration 500, residual is 12807.321169553114\n",
      "On iteration 600, residual is 12163.548596349783\n",
      "On iteration 700, residual is 11473.909954985289\n",
      "On iteration 800, residual is 11190.912791228273\n",
      "On iteration 900, residual is 10986.628292281446\n",
      "On iteration 1000, residual is 10854.487571192773\n",
      "On iteration 1100, residual is 10795.20432029694\n",
      "On iteration 1200, residual is 10770.400812420512\n",
      "On iteration 1300, residual is 10762.352345670526\n",
      "On iteration 1400, residual is 10652.49654339636\n",
      "On iteration 1500, residual is 10902.943600775521\n",
      "On iteration 1600, residual is 8897.306492860796\n",
      "On iteration 1700, residual is 8372.018008329353\n",
      "On iteration 1800, residual is 7944.763860319142\n",
      "On iteration 1900, residual is 8522.81594849359\n",
      "On iteration 2000, residual is 7538.113343393252\n",
      "On iteration 2100, residual is 7476.404853685088\n",
      "On iteration 2200, residual is 7402.3601243618305\n",
      "On iteration 2300, residual is 7301.415122810851\n",
      "On iteration 2400, residual is 7240.129519761143\n",
      "On iteration 2500, residual is 7508.971585052765\n",
      "On iteration 2600, residual is 876708.218801536\n",
      "On iteration 2700, residual is 6953.82143124047\n",
      "On iteration 2800, residual is 6837.411528518749\n",
      "On iteration 2900, residual is 6825.663613204636\n",
      "On iteration 3000, residual is 6477.621260464336\n",
      "On iteration 3100, residual is 6393.616843502973\n",
      "On iteration 3200, residual is 6169.315263956734\n",
      "On iteration 3300, residual is 5648.40468181426\n",
      "On iteration 3400, residual is 4954.309416736645\n",
      "On iteration 3500, residual is 4319.580381024903\n",
      "On iteration 3600, residual is 3231.7171245554314\n",
      "On iteration 3700, residual is 3085.487627037346\n",
      "On iteration 3800, residual is 2364.896386862801\n",
      "On iteration 3900, residual is 2194.6953934314574\n",
      "On iteration 4000, residual is 1842.8148685223955\n",
      "On iteration 4100, residual is 1514.096978845697\n",
      "On iteration 4200, residual is 1353.2272267680019\n",
      "On iteration 4300, residual is 1275.6175665833048\n",
      "On iteration 4400, residual is 1185.5282141793125\n",
      "On iteration 4500, residual is 1124.4483153575216\n",
      "On iteration 4600, residual is 1072.0458234988978\n",
      "On iteration 4700, residual is 2.8664344115858744e+18\n"
     ]
    },
    {
     "name": "stderr",
     "output_type": "stream",
     "text": [
      "/home/alexander/anaconda3/lib/python3.6/site-packages/scipy/integrate/odepack.py:218: ODEintWarning: Excess work done on this call (perhaps wrong Dfun type). Run with full_output = 1 to get quantitative information.\n",
      "  warnings.warn(warning_msg, ODEintWarning)\n"
     ]
    },
    {
     "name": "stdout",
     "output_type": "stream",
     "text": [
      "On iteration 4800, residual is 935.4208084127051\n"
     ]
    },
    {
     "name": "stderr",
     "output_type": "stream",
     "text": [
      "/home/alexander/anaconda3/lib/python3.6/site-packages/scipy/integrate/odepack.py:218: ODEintWarning: Excess work done on this call (perhaps wrong Dfun type). Run with full_output = 1 to get quantitative information.\n",
      "  warnings.warn(warning_msg, ODEintWarning)\n"
     ]
    },
    {
     "name": "stdout",
     "output_type": "stream",
     "text": [
      "On iteration 4900, residual is 884.7655971434365\n"
     ]
    },
    {
     "name": "stderr",
     "output_type": "stream",
     "text": [
      "/home/alexander/anaconda3/lib/python3.6/site-packages/scipy/integrate/odepack.py:218: ODEintWarning: Excess work done on this call (perhaps wrong Dfun type). Run with full_output = 1 to get quantitative information.\n",
      "  warnings.warn(warning_msg, ODEintWarning)\n"
     ]
    },
    {
     "name": "stdout",
     "output_type": "stream",
     "text": [
      "On iteration 5000, residual is 855.9444939266288\n",
      "On iteration 5100, residual is 770.8242410129261\n",
      "On iteration 5200, residual is 710.7850764069783\n",
      "On iteration 5300, residual is 681.9236943589917\n",
      "On iteration 5400, residual is 646.7080343632989\n",
      "On iteration 5500, residual is 603.3891073833547\n",
      "On iteration 5600, residual is 547.7860870305631\n",
      "On iteration 5700, residual is 473.48202981958855\n",
      "On iteration 5800, residual is 385.3482334401001\n",
      "On iteration 5900, residual is 365.3860013122734\n",
      "On iteration 6000, residual is 356.5524035869338\n",
      "On iteration 6100, residual is 348.66348619142\n",
      "On iteration 6200, residual is 338.1165467064345\n",
      "On iteration 6300, residual is 326.65757921217715\n",
      "On iteration 6400, residual is 314.3838530044846\n",
      "On iteration 6500, residual is 303.1256070919283\n",
      "On iteration 6600, residual is 297.337750566523\n",
      "On iteration 6700, residual is 294.62216708739095\n",
      "On iteration 6800, residual is 290.7751319266332\n",
      "On iteration 6900, residual is 286.6706754116129\n",
      "On iteration 7000, residual is 283.0182700294162\n",
      "On iteration 7100, residual is 281.52726705178424\n",
      "On iteration 7200, residual is 277.7229626020922\n",
      "On iteration 7300, residual is 272.1162306161031\n",
      "On iteration 7400, residual is 268.05798480664157\n",
      "On iteration 7500, residual is 264.4019292942078\n",
      "On iteration 7600, residual is 261.12536423846905\n",
      "On iteration 7700, residual is 254.1260121094714\n",
      "On iteration 7800, residual is 249.0531856944479\n",
      "On iteration 7900, residual is 245.51686491262728\n",
      "On iteration 8000, residual is 243.7711365615965\n",
      "On iteration 8100, residual is 242.3470628154447\n",
      "On iteration 8200, residual is 238.74897697539407\n",
      "On iteration 8300, residual is 235.93822621454404\n",
      "On iteration 8400, residual is 231.25685920354854\n",
      "On iteration 8500, residual is 212.96434790013708\n",
      "On iteration 8600, residual is 197.97795618465457\n",
      "On iteration 8700, residual is 194.30098163472195\n",
      "On iteration 8800, residual is 188.6595917105335\n",
      "On iteration 8900, residual is 184.2731958283206\n",
      "On iteration 9000, residual is 194.22235361347668\n",
      "On iteration 9100, residual is 173.52063368276131\n",
      "On iteration 9200, residual is 164.38205130722505\n",
      "On iteration 9300, residual is 160.1669565912658\n",
      "On iteration 9400, residual is 157.08812229489322\n",
      "On iteration 9500, residual is 153.4828484957052\n",
      "On iteration 9600, residual is 147.7356627200344\n",
      "On iteration 9700, residual is 145.28621102386654\n",
      "On iteration 9800, residual is 146.27696581834377\n",
      "On iteration 9900, residual is 143.77764767083926\n",
      "On iteration 10000, residual is 141.84505293336517\n",
      "On iteration 10100, residual is 141.0870664931275\n",
      "On iteration 10200, residual is 140.97427231850855\n",
      "On iteration 10300, residual is 140.1583566523519\n",
      "On iteration 10400, residual is 138.65886775402123\n",
      "On iteration 10500, residual is 135.4533857467601\n",
      "On iteration 10600, residual is 126.1691059842119\n",
      "On iteration 10700, residual is 114.50897376910163\n",
      "On iteration 10800, residual is 109.17265078502153\n",
      "On iteration 10900, residual is 104.53469792323739\n",
      "On iteration 11000, residual is 102.50060684701226\n",
      "On iteration 11100, residual is 101.4078975105328\n",
      "On iteration 11200, residual is 97.90993542742467\n",
      "On iteration 11300, residual is 92.26320580488127\n",
      "On iteration 11400, residual is 86.89702285487112\n",
      "On iteration 11500, residual is 71.12965832740294\n",
      "On iteration 11600, residual is 65.89127124852527\n",
      "On iteration 11700, residual is 57.054508417741836\n",
      "On iteration 11800, residual is 52.41711537560767\n",
      "On iteration 11900, residual is 50.47325743362442\n",
      "On iteration 12000, residual is 48.679825905489764\n",
      "On iteration 12100, residual is 48.60066696777321\n",
      "On iteration 12200, residual is 48.559648857761594\n",
      "On iteration 12300, residual is 48.467617371889055\n",
      "On iteration 12400, residual is 47.963680172064784\n",
      "On iteration 12500, residual is 45.560635998901326\n",
      "On iteration 12600, residual is 41.09534362472624\n",
      "On iteration 12700, residual is 39.80699069424513\n",
      "On iteration 12800, residual is 39.704488401057574\n",
      "On iteration 12900, residual is 39.65607603584111\n",
      "On iteration 13000, residual is 39.56965142787277\n",
      "On iteration 13100, residual is 39.1384233985482\n",
      "On iteration 13200, residual is 36.88466668808851\n",
      "On iteration 13300, residual is 29.849131891804483\n",
      "On iteration 13400, residual is 24.45233559345545\n",
      "On iteration 13500, residual is 22.67933960452238\n",
      "On iteration 13600, residual is 22.14561162089578\n",
      "On iteration 13700, residual is 22.021831684658082\n",
      "On iteration 13800, residual is 21.761417268847303\n",
      "On iteration 13900, residual is 21.11641313664612\n",
      "On iteration 14000, residual is 17.73623089821494\n",
      "On iteration 14100, residual is 10.536713592095353\n",
      "On iteration 14200, residual is 4.199895996139492\n",
      "On iteration 14300, residual is 1.9485827533372948\n",
      "On iteration 14400, residual is 1.263616838474512\n",
      "On iteration 14500, residual is 0.9965247905485431\n",
      "On iteration 14600, residual is 0.9805180881392191\n",
      "On iteration 14700, residual is 0.9772923381662342\n",
      "On iteration 14800, residual is 0.9768635736432442\n",
      "On iteration 14900, residual is 0.9765932715133936\n",
      "On iteration 15000, residual is 0.9764782905841427\n",
      "On iteration 15100, residual is 0.9760848708927405\n",
      "On iteration 15200, residual is 0.9738178223217978\n",
      "On iteration 15300, residual is 0.9535593794221269\n",
      "On iteration 15400, residual is 0.8516460132156479\n",
      "On iteration 15500, residual is 0.5468723978089272\n",
      "On iteration 15600, residual is 0.40893817392274606\n",
      "On iteration 15700, residual is 0.4082049916837875\n",
      "On iteration 15800, residual is 0.4081320953889237\n",
      "On iteration 15900, residual is 0.40790884607562466\n",
      "On iteration 16000, residual is 0.40656034842896976\n",
      "On iteration 16100, residual is 0.3921309773138971\n",
      "On iteration 16200, residual is 0.3257639298323552\n",
      "On iteration 16300, residual is 0.08394208624700691\n",
      "On iteration 16400, residual is 0.0005678674817610428\n",
      "On iteration 16500, residual is 8.828895494885416e-06\n",
      "On iteration 16600, residual is 8.081428847800079e-07\n",
      "On iteration 16700, residual is 7.276826369916358e-07\n",
      "On iteration 16800, residual is 7.19257486758975e-07\n",
      "On iteration 16900, residual is 7.189460297633334e-07\n",
      "On iteration 17000, residual is 7.186415537150798e-07\n",
      "On iteration 17100, residual is 7.185582072118291e-07\n",
      "On iteration 17200, residual is 7.189850654609142e-07\n",
      "On iteration 17300, residual is 7.189036028487127e-07\n",
      "On iteration 17400, residual is 7.189143918985706e-07\n",
      "On iteration 17500, residual is 7.189885980838e-07\n",
      "On iteration 17600, residual is 7.192566971291886e-07\n",
      "On iteration 17700, residual is 7.189460172731166e-07\n",
      "On iteration 17800, residual is 7.18640435644048e-07\n",
      "On iteration 17900, residual is 7.185581983734746e-07\n",
      "On iteration 18000, residual is 7.189850653563446e-07\n",
      "On iteration 18100, residual is 7.18903603058825e-07\n",
      "On iteration 18200, residual is 7.189143918998305e-07\n",
      "On iteration 18300, residual is 7.189885981332985e-07\n",
      "On iteration 18400, residual is 7.192566966437134e-07\n",
      "On iteration 18500, residual is 7.18946017342957e-07\n",
      "On iteration 18600, residual is 7.186404356439732e-07\n",
      "On iteration 18700, residual is 7.185581983900667e-07\n",
      "On iteration 18800, residual is 7.189850653563446e-07\n",
      "On iteration 18900, residual is 7.18903603058825e-07\n",
      "Result after this step:\n",
      "array([ -1.02246501e-07,   9.99999435e-01,  -5.91693682e-07,\n",
      "        -2.73177941e-08,   2.36095508e-06,  -1.00000185e+00,\n",
      "        -7.89118260e-07,  -7.48346615e-07,   1.19789586e-06,\n",
      "        -1.69270390e-08,  -1.36744432e-07,   6.06373371e-06,\n",
      "        -1.00000563e+00,  -1.06348953e-06,  -3.16191001e-06,\n",
      "         9.99989748e-01,   7.95329370e-06,   1.18534540e-05,\n",
      "        -1.00000074e+00,  -3.66167742e-06,  -4.97315711e-06,\n",
      "        -1.72285410e-05,  -3.20444076e-06,  -9.99975510e-01,\n",
      "        -1.10232007e-06,   3.38969336e-05,  -7.98117284e-06,\n",
      "        -9.59456251e-06,   9.99973686e-01,   5.16973579e-06])\n",
      "Restarting process after removing extraneous coefficients...\n",
      "On iteration 0, residual is 6.407131398527913e-05\n"
     ]
    },
    {
     "name": "stderr",
     "output_type": "stream",
     "text": [
      "/home/alexander/anaconda3/lib/python3.6/site-packages/scipy/integrate/odepack.py:218: ODEintWarning: Excess work done on this call (perhaps wrong Dfun type). Run with full_output = 1 to get quantitative information.\n",
      "  warnings.warn(warning_msg, ODEintWarning)\n"
     ]
    },
    {
     "name": "stdout",
     "output_type": "stream",
     "text": [
      "On iteration 100, residual is 6.405028892013598e-05\n"
     ]
    },
    {
     "name": "stderr",
     "output_type": "stream",
     "text": [
      "/home/alexander/anaconda3/lib/python3.6/site-packages/scipy/integrate/odepack.py:218: ODEintWarning: Excess work done on this call (perhaps wrong Dfun type). Run with full_output = 1 to get quantitative information.\n",
      "  warnings.warn(warning_msg, ODEintWarning)\n"
     ]
    },
    {
     "name": "stdout",
     "output_type": "stream",
     "text": [
      "Result after this step:\n",
      "array([ 0.        ,  0.99999943,  0.        ,  0.        ,  0.        ,\n",
      "       -1.00000185,  0.        ,  0.        ,  0.        ,  0.        ,\n",
      "        0.        ,  0.        , -1.00000563,  0.        ,  0.        ,\n",
      "        0.99998975,  0.        ,  0.        , -1.00000074,  0.        ,\n",
      "        0.        ,  0.        ,  0.        , -0.99997551,  0.        ,\n",
      "        0.        ,  0.        ,  0.        ,  0.99997369,  0.        ])\n",
      "Restarting process after removing extraneous coefficients...\n",
      "On iteration 0, residual is 6.407131398527913e-05\n"
     ]
    },
    {
     "name": "stderr",
     "output_type": "stream",
     "text": [
      "/home/alexander/anaconda3/lib/python3.6/site-packages/scipy/integrate/odepack.py:218: ODEintWarning: Excess work done on this call (perhaps wrong Dfun type). Run with full_output = 1 to get quantitative information.\n",
      "  warnings.warn(warning_msg, ODEintWarning)\n"
     ]
    },
    {
     "name": "stdout",
     "output_type": "stream",
     "text": [
      "On iteration 100, residual is 6.405028892013598e-05\n"
     ]
    },
    {
     "name": "stderr",
     "output_type": "stream",
     "text": [
      "/home/alexander/anaconda3/lib/python3.6/site-packages/scipy/integrate/odepack.py:218: ODEintWarning: Excess work done on this call (perhaps wrong Dfun type). Run with full_output = 1 to get quantitative information.\n",
      "  warnings.warn(warning_msg, ODEintWarning)\n"
     ]
    },
    {
     "name": "stdout",
     "output_type": "stream",
     "text": [
      "Result after this step:\n",
      "array([ 0.        ,  0.99999943,  0.        ,  0.        ,  0.        ,\n",
      "       -1.00000185,  0.        ,  0.        ,  0.        ,  0.        ,\n",
      "        0.        ,  0.        , -1.00000563,  0.        ,  0.        ,\n",
      "        0.99998975,  0.        ,  0.        , -1.00000074,  0.        ,\n",
      "        0.        ,  0.        ,  0.        , -0.99997551,  0.        ,\n",
      "        0.        ,  0.        ,  0.        ,  0.99997369,  0.        ])\n",
      "Restarting process after removing extraneous coefficients...\n",
      "On iteration 0, residual is 6.407131398527913e-05\n"
     ]
    },
    {
     "name": "stderr",
     "output_type": "stream",
     "text": [
      "/home/alexander/anaconda3/lib/python3.6/site-packages/scipy/integrate/odepack.py:218: ODEintWarning: Excess work done on this call (perhaps wrong Dfun type). Run with full_output = 1 to get quantitative information.\n",
      "  warnings.warn(warning_msg, ODEintWarning)\n"
     ]
    },
    {
     "name": "stdout",
     "output_type": "stream",
     "text": [
      "On iteration 100, residual is 6.405028892013598e-05\n"
     ]
    },
    {
     "name": "stderr",
     "output_type": "stream",
     "text": [
      "/home/alexander/anaconda3/lib/python3.6/site-packages/scipy/integrate/odepack.py:218: ODEintWarning: Excess work done on this call (perhaps wrong Dfun type). Run with full_output = 1 to get quantitative information.\n",
      "  warnings.warn(warning_msg, ODEintWarning)\n"
     ]
    },
    {
     "name": "stdout",
     "output_type": "stream",
     "text": [
      "Result after this step:\n",
      "array([ 0.        ,  0.99999943,  0.        ,  0.        ,  0.        ,\n",
      "       -1.00000185,  0.        ,  0.        ,  0.        ,  0.        ,\n",
      "        0.        ,  0.        , -1.00000563,  0.        ,  0.        ,\n",
      "        0.99998975,  0.        ,  0.        , -1.00000074,  0.        ,\n",
      "        0.        ,  0.        ,  0.        , -0.99997551,  0.        ,\n",
      "        0.        ,  0.        ,  0.        ,  0.99997369,  0.        ])\n",
      "Restarting process after removing extraneous coefficients...\n"
     ]
    }
   ],
   "source": [
    "from pprint import pprint\n",
    "from scipy.integrate import odeint\n",
    "from scipy.optimize import minimize\n",
    "from scipy.linalg import block_diag\n",
    "from sklearn.preprocessing import PolynomialFeatures\n",
    "from sparse_identification.utils import derivative\n",
    "\n",
    "num_trajectories = trajectories.shape[0]\n",
    "x0 = [1e-3] * (3*num_coeffs) # initialize coefficients to be small values \n",
    "l2 = 0.01\n",
    "iter_num = 0\n",
    "\n",
    "def make_terms(y):\n",
    "    # make the polynomial terms of the Lotka-Volterra system\n",
    "    terms = []\n",
    "    base = np.concatenate(([1], y))\n",
    "    for i in range(len(y)):\n",
    "        terms.append(y[i] * base)\n",
    "    return np.array(terms)\n",
    "'''\n",
    "def system_vals(y0, t, coeffs):\n",
    "    terms = make_terms(y0)\n",
    "    A = block_diag(*terms)\n",
    "    return A @ coeffs\n",
    "'''\n",
    "def system_vals(y0, t, coeffs):\n",
    "    Theta = library.fit_transform([y0])\n",
    "    A = block_diag(Theta, Theta, Theta)\n",
    "    return A @ coeffs\n",
    "\n",
    "def f(y):\n",
    "    global iter_num\n",
    "    diff_sq = 0\n",
    "    for ind, x_slice_trunc in enumerate(x_trunc):\n",
    "        coeffs = y[:3*num_coeffs]\n",
    "        #z_start = y[3*num_coeffs+ind]\n",
    "        #initial = [x_slice_trunc[0, 0], x_slice_trunc[0, 1], z_start]\n",
    "        initial = trajectories[ind][0]\n",
    "        x_est = odeint(system_vals, initial, t, args=(coeffs,))\n",
    "        x_est = x_est[:, :2] # only keep first two columns so we can compare with actual values\n",
    "        diff_sq += np.sum((x_slice_trunc - x_est) ** 2)\n",
    "    if iter_num % 100 == 0:\n",
    "        print('On iteration {}, residual is {}'.format(iter_num, diff_sq))\n",
    "    iter_num += 1\n",
    "    \n",
    "    return diff_sq\n",
    "\n",
    "for _ in range(5):\n",
    "    res = minimize(f, x0)\n",
    "    print('Result after this step:')\n",
    "    pprint(res.x)\n",
    "    coeffs = res.x\n",
    "    for i in range(3):\n",
    "        coeff_block = coeffs[i*num_coeffs:(i+1)*num_coeffs]\n",
    "        xmax = abs(coeff_block[np.nonzero(coeff_block)]).mean()\n",
    "        to_remove = [k for k in range(len(coeff_block)) if abs(coeff_block[k]) < l1*xmax]\n",
    "        for k in to_remove:\n",
    "            coeffs[i*num_coeffs + k] = 0\n",
    "    x0 = coeffs\n",
    "    iter_num = 0\n",
    "    print('Restarting process after removing extraneous coefficients...')"
   ]
  },
  {
   "cell_type": "code",
   "execution_count": null,
   "metadata": {
    "collapsed": true
   },
   "outputs": [],
   "source": [
    "alpha2 = np.array([0.9982, -0.9774, -0.9531])\n",
    "beta2 = np.array([[0, -1.00015232, 0.00813716], [0.99634992, 0, -7.23730658], [-0.01271289, 0.99328139, -0.13339578]])\n",
    "t = np.linspace(0, 5, 2000)\n",
    "x0_2 = np.array([0.5, 1, 2.79314641e-01]) # Initial condition.\n",
    "x2, dx2 = Lotka_Volterra(x0_2, alpha2, beta2, t)\n",
    "np.max(x2 - x)"
   ]
  },
  {
   "cell_type": "markdown",
   "metadata": {},
   "source": [
    "If we remove the variable $z$ ad use the above algorithm, we get the system\n",
    "\\begin{align*}\n",
    "\\dot{x} &= x(9.98188683 \\cdot 10^{-1} + 5.02546447 \\cdot 10^{-4}x - 1.00015232y + 8.13716153 \\cdot 10^{-3}z) \\\\\n",
    "\\dot{y} &= y(-9.77408801 \\cdot 10^{-1} + 9.96349918 \\cdot 10^{-1}x - 1.99183904 \\cdot 10^{-3}y - 7.23730658z) \\\\\n",
    "\\dot{z} &= z(-9.53057554 \\cdot 10^{-2} -1.27128901 \\cdot 10^{-2}x + 9.93281392 \\cdot 10^{-1}y  -1.33395777 \\cdot 10^{-1}z)\n",
    "\\end{align*}"
   ]
  },
  {
   "cell_type": "markdown",
   "metadata": {},
   "source": [
    "## Case where points are not uniformly spaced."
   ]
  },
  {
   "cell_type": "code",
   "execution_count": 12,
   "metadata": {},
   "outputs": [
    {
     "name": "stderr",
     "output_type": "stream",
     "text": [
      "/home/alexander/anaconda3/lib/python3.6/site-packages/scipy/integrate/odepack.py:218: ODEintWarning: Excess work done on this call (perhaps wrong Dfun type). Run with full_output = 1 to get quantitative information.\n",
      "  warnings.warn(warning_msg, ODEintWarning)\n"
     ]
    },
    {
     "name": "stdout",
     "output_type": "stream",
     "text": [
      "On iteration 0, residual is 80390.52483089681\n",
      "On iteration 100, residual is 59021.27863142977\n",
      "On iteration 200, residual is 53019.77766867208\n",
      "On iteration 300, residual is 94115.74716305545\n",
      "On iteration 400, residual is 43395.28664164103\n",
      "On iteration 500, residual is 40842.09390822385\n"
     ]
    },
    {
     "name": "stderr",
     "output_type": "stream",
     "text": [
      "/home/alexander/anaconda3/lib/python3.6/site-packages/scipy/integrate/odepack.py:218: ODEintWarning: Excess work done on this call (perhaps wrong Dfun type). Run with full_output = 1 to get quantitative information.\n",
      "  warnings.warn(warning_msg, ODEintWarning)\n"
     ]
    },
    {
     "name": "stdout",
     "output_type": "stream",
     "text": [
      "On iteration 600, residual is 40038.96721981872\n",
      "On iteration 700, residual is 37045.25706309827\n",
      "On iteration 800, residual is 36065.94460267344\n",
      "On iteration 900, residual is 34130.89384199084\n",
      "On iteration 1000, residual is 32938.17158151143\n",
      "On iteration 1100, residual is 40917.84669431624\n"
     ]
    },
    {
     "name": "stderr",
     "output_type": "stream",
     "text": [
      "/home/alexander/anaconda3/lib/python3.6/site-packages/scipy/integrate/odepack.py:218: ODEintWarning: Excess work done on this call (perhaps wrong Dfun type). Run with full_output = 1 to get quantitative information.\n",
      "  warnings.warn(warning_msg, ODEintWarning)\n"
     ]
    },
    {
     "name": "stdout",
     "output_type": "stream",
     "text": [
      "On iteration 1200, residual is 29639.70479165147\n",
      "On iteration 1300, residual is 28968.69175678622\n",
      "On iteration 1400, residual is 27823.187752794754\n",
      "On iteration 1500, residual is 27268.578450335648\n",
      "On iteration 1600, residual is 26893.525960585077\n",
      "On iteration 1700, residual is 1.2602412371385446e+26\n",
      "On iteration 1800, residual is 26851.239741354602\n",
      "On iteration 1900, residual is 26738.451150742767\n",
      "On iteration 2000, residual is 26738.4510091757\n"
     ]
    },
    {
     "name": "stderr",
     "output_type": "stream",
     "text": [
      "/home/alexander/anaconda3/lib/python3.6/site-packages/scipy/integrate/odepack.py:218: ODEintWarning: Excess work done on this call (perhaps wrong Dfun type). Run with full_output = 1 to get quantitative information.\n",
      "  warnings.warn(warning_msg, ODEintWarning)\n"
     ]
    },
    {
     "name": "stdout",
     "output_type": "stream",
     "text": [
      "On iteration 2100, residual is 26717.008908734024\n",
      "On iteration 2200, residual is 26043.029274561442\n",
      "On iteration 2300, residual is 24743.413208026723\n"
     ]
    },
    {
     "name": "stderr",
     "output_type": "stream",
     "text": [
      "/home/alexander/anaconda3/lib/python3.6/site-packages/scipy/integrate/odepack.py:218: ODEintWarning: Excess work done on this call (perhaps wrong Dfun type). Run with full_output = 1 to get quantitative information.\n",
      "  warnings.warn(warning_msg, ODEintWarning)\n"
     ]
    },
    {
     "name": "stdout",
     "output_type": "stream",
     "text": [
      "On iteration 2400, residual is 23788.86257161188\n",
      "On iteration 2500, residual is 2.195462702443351e+23\n",
      "On iteration 2600, residual is 22606.223473280937\n",
      "On iteration 2700, residual is 22565.336807213927\n",
      "On iteration 2800, residual is 1.9217194432010702e+20\n"
     ]
    },
    {
     "name": "stderr",
     "output_type": "stream",
     "text": [
      "/home/alexander/anaconda3/lib/python3.6/site-packages/scipy/integrate/odepack.py:218: ODEintWarning: Excess work done on this call (perhaps wrong Dfun type). Run with full_output = 1 to get quantitative information.\n",
      "  warnings.warn(warning_msg, ODEintWarning)\n"
     ]
    },
    {
     "name": "stdout",
     "output_type": "stream",
     "text": [
      "On iteration 2900, residual is 17348.38388738981\n",
      "On iteration 3000, residual is 15576.465557405292\n"
     ]
    },
    {
     "name": "stderr",
     "output_type": "stream",
     "text": [
      "/home/alexander/anaconda3/lib/python3.6/site-packages/scipy/integrate/odepack.py:218: ODEintWarning: Excess work done on this call (perhaps wrong Dfun type). Run with full_output = 1 to get quantitative information.\n",
      "  warnings.warn(warning_msg, ODEintWarning)\n"
     ]
    },
    {
     "name": "stdout",
     "output_type": "stream",
     "text": [
      "On iteration 3100, residual is 14806.81160374161\n"
     ]
    },
    {
     "name": "stderr",
     "output_type": "stream",
     "text": [
      "/home/alexander/anaconda3/lib/python3.6/site-packages/scipy/integrate/odepack.py:218: ODEintWarning: Excess work done on this call (perhaps wrong Dfun type). Run with full_output = 1 to get quantitative information.\n",
      "  warnings.warn(warning_msg, ODEintWarning)\n"
     ]
    },
    {
     "name": "stdout",
     "output_type": "stream",
     "text": [
      "On iteration 3200, residual is 14094.189385474292\n",
      "On iteration 3300, residual is 13421.976671326796\n",
      "On iteration 3400, residual is 11608.618455249705\n",
      "On iteration 3500, residual is 9874.176706098187\n",
      "On iteration 3600, residual is 8147.077412242214\n",
      "On iteration 3700, residual is 7113.548982640107\n",
      "On iteration 3800, residual is 5394.0645173309795\n",
      "On iteration 3900, residual is 4505.671458072765\n",
      "On iteration 4000, residual is 3936.686338110457\n",
      "On iteration 4100, residual is 3467.5708567171987\n",
      "On iteration 4200, residual is 2942.671161278204\n",
      "On iteration 4300, residual is 2620.8071286660374\n",
      "On iteration 4400, residual is 2425.334453710133\n",
      "On iteration 4500, residual is 2270.0039290701843\n",
      "On iteration 4600, residual is 2098.4003716407756\n",
      "On iteration 4700, residual is 2034.447266613636\n",
      "On iteration 4800, residual is 1928.5036501737777\n",
      "On iteration 4900, residual is 1868.6288722477684\n",
      "On iteration 5000, residual is 1706.858658786393\n",
      "On iteration 5100, residual is 1358.2214375932563\n",
      "On iteration 5200, residual is 1281.1363037084868\n",
      "On iteration 5300, residual is 1168.6438050220638\n",
      "On iteration 5400, residual is 1056.24290854047\n",
      "On iteration 5500, residual is 962.9617853622423\n",
      "On iteration 5600, residual is 924.7810895929027\n",
      "On iteration 5700, residual is 857.1513869166338\n",
      "On iteration 5800, residual is 816.2202576327088\n",
      "On iteration 5900, residual is 772.8941540549555\n",
      "On iteration 6000, residual is 746.6333691417861\n",
      "On iteration 6100, residual is 730.8187894867131\n",
      "On iteration 6200, residual is 667.3983567536288\n",
      "On iteration 6300, residual is 631.4315429571095\n",
      "On iteration 6400, residual is 617.8499735386009\n",
      "On iteration 6500, residual is 586.4480283084268\n",
      "On iteration 6600, residual is 551.8267574061942\n",
      "On iteration 6700, residual is 522.3912054006793\n",
      "On iteration 6800, residual is 475.0470220060538\n",
      "On iteration 6900, residual is 421.9453693948514\n",
      "On iteration 7000, residual is 368.96524076585763\n",
      "On iteration 7100, residual is 332.6535234951386\n",
      "On iteration 7200, residual is 314.0856355010674\n",
      "On iteration 7300, residual is 302.62109677366846\n",
      "On iteration 7400, residual is 295.7042114854313\n",
      "On iteration 7500, residual is 291.3446101691827\n",
      "On iteration 7600, residual is 290.43403521018035\n",
      "On iteration 7700, residual is 289.5271561920022\n",
      "On iteration 7800, residual is 285.9243681479528\n",
      "On iteration 7900, residual is 281.98823590593423\n",
      "On iteration 8000, residual is 279.1272502529086\n",
      "On iteration 8100, residual is 269.74822219946174\n",
      "On iteration 8200, residual is 263.59412049514805\n",
      "On iteration 8300, residual is 255.41277112403347\n",
      "On iteration 8400, residual is 252.7859075808354\n",
      "On iteration 8500, residual is 251.72391793509317\n",
      "On iteration 8600, residual is 250.61989917260158\n",
      "On iteration 8700, residual is 247.79669079549745\n",
      "On iteration 8800, residual is 236.95938579362348\n",
      "On iteration 8900, residual is 227.67562210146804\n",
      "On iteration 9000, residual is 223.05570308511892\n",
      "On iteration 9100, residual is 222.03763384592904\n",
      "On iteration 9200, residual is 220.97162904664145\n",
      "On iteration 9300, residual is 218.68081564731202\n",
      "On iteration 9400, residual is 213.92988327289015\n",
      "On iteration 9500, residual is 213.56827321264126\n",
      "On iteration 9600, residual is 213.02139912929286\n",
      "On iteration 9700, residual is 210.66939744069523\n",
      "On iteration 9800, residual is 206.00461943899177\n",
      "On iteration 9900, residual is 202.9103282049927\n",
      "On iteration 10000, residual is 202.538396052844\n",
      "On iteration 10100, residual is 201.59686778479158\n",
      "On iteration 10200, residual is 200.83514295851163\n",
      "On iteration 10300, residual is 197.1274725718649\n",
      "On iteration 10400, residual is 191.11743244809787\n",
      "On iteration 10500, residual is 189.65200891548145\n",
      "On iteration 10600, residual is 185.47183675198764\n",
      "On iteration 10700, residual is 184.91567037367793\n",
      "On iteration 10800, residual is 184.8072639761304\n",
      "On iteration 10900, residual is 184.64887901855843\n",
      "On iteration 11000, residual is 182.94607897547493\n",
      "On iteration 11100, residual is 175.00074111032336\n",
      "On iteration 11200, residual is 153.54168107405135\n",
      "On iteration 11300, residual is 139.03931135151296\n",
      "On iteration 11400, residual is 128.29311795841224\n",
      "On iteration 11500, residual is 111.71344874359932\n",
      "On iteration 11600, residual is 89.5066758770314\n",
      "On iteration 11700, residual is 83.7514257249236\n",
      "On iteration 11800, residual is 81.00055687169903\n",
      "On iteration 11900, residual is 72.24292203773928\n",
      "On iteration 12000, residual is 68.21885732326966\n",
      "On iteration 12100, residual is 66.40752876927569\n",
      "On iteration 12200, residual is 64.89459425930102\n",
      "On iteration 12300, residual is 61.70188359708998\n",
      "On iteration 12400, residual is 60.219458650174865\n",
      "On iteration 12500, residual is 60.02795018006515\n",
      "On iteration 12600, residual is 59.13270954717644\n",
      "On iteration 12700, residual is 56.02475565566306\n",
      "On iteration 12800, residual is 48.67595943971836\n",
      "On iteration 12900, residual is 46.1616554559439\n",
      "On iteration 13000, residual is 45.5864526926123\n",
      "On iteration 13100, residual is 40.63584986894059\n",
      "On iteration 13200, residual is 32.134987032819154\n",
      "On iteration 13300, residual is 13.676815708826313\n",
      "On iteration 13400, residual is 6.112924017206039\n",
      "On iteration 13500, residual is 0.39074503506392716\n",
      "On iteration 13600, residual is 0.11575327624222137\n",
      "On iteration 13700, residual is 0.11233690934662019\n",
      "On iteration 13800, residual is 0.06487504490739561\n",
      "On iteration 13900, residual is 0.003972168520925019\n",
      "On iteration 14000, residual is 0.00039920286702078885\n",
      "On iteration 14100, residual is 0.00013841336868662815\n",
      "On iteration 14200, residual is 5.407712469370098e-06\n",
      "On iteration 14300, residual is 3.3073219697434027e-06\n",
      "On iteration 14400, residual is 3.283298195475063e-06\n",
      "On iteration 14500, residual is 3.2827419793886613e-06\n",
      "On iteration 14600, residual is 3.2839368404957945e-06\n",
      "On iteration 14700, residual is 3.282605959309038e-06\n",
      "On iteration 14800, residual is 3.2767505222811645e-06\n",
      "On iteration 14900, residual is 3.281644393969101e-06\n",
      "On iteration 15000, residual is 3.2780127029097294e-06\n",
      "On iteration 15100, residual is 3.281751034344958e-06\n",
      "On iteration 15200, residual is 3.2832806782814597e-06\n",
      "On iteration 15300, residual is 3.282741873520958e-06\n",
      "On iteration 15400, residual is 3.283936742320091e-06\n",
      "On iteration 15500, residual is 3.2826048926653157e-06\n",
      "On iteration 15600, residual is 3.27675048905722e-06\n",
      "On iteration 15700, residual is 3.2816443092914286e-06\n",
      "On iteration 15800, residual is 3.27801277912327e-06\n",
      "On iteration 15900, residual is 3.2817507787299218e-06\n",
      "On iteration 16000, residual is 3.2832807000996287e-06\n",
      "On iteration 16100, residual is 3.2827418940244675e-06\n",
      "On iteration 16200, residual is 3.2839366297679965e-06\n",
      "On iteration 16300, residual is 3.2826048916655004e-06\n",
      "On iteration 16400, residual is 3.2767504883293096e-06\n",
      "On iteration 16500, residual is 3.2816443083366806e-06\n",
      "Result after this step:\n",
      "array([ -3.59665803e-06,   1.00000686e+00,  -1.55834991e-05,\n",
      "         2.97153247e-06,   5.71919679e-06,  -1.00000972e+00,\n",
      "        -3.51713742e-06,   5.88455869e-06,   4.11331565e-06,\n",
      "        -2.99645870e-08,  -1.13565578e-05,   3.76438380e-05,\n",
      "        -1.00003163e+00,   4.84829416e-07,  -1.41619339e-05,\n",
      "         1.00000499e+00,   6.14327795e-06,   6.31950594e-06,\n",
      "        -1.00000003e+00,  -1.60729302e-06,  -1.12970306e-06,\n",
      "         2.62609108e-06,  -1.32540185e-05,  -9.99984445e-01,\n",
      "        -1.76164573e-06,   6.22156802e-06,  -6.84659129e-06,\n",
      "         1.92339252e-06,   1.00000260e+00,  -5.88473865e-06])\n",
      "Restarting process after removing extraneous coefficients...\n",
      "On iteration 0, residual is 0.00011460802136964002\n"
     ]
    },
    {
     "name": "stderr",
     "output_type": "stream",
     "text": [
      "/home/alexander/anaconda3/lib/python3.6/site-packages/scipy/integrate/odepack.py:218: ODEintWarning: Excess work done on this call (perhaps wrong Dfun type). Run with full_output = 1 to get quantitative information.\n",
      "  warnings.warn(warning_msg, ODEintWarning)\n",
      "/home/alexander/anaconda3/lib/python3.6/site-packages/ipykernel_launcher.py:45: RuntimeWarning: overflow encountered in square\n",
      "/home/alexander/anaconda3/lib/python3.6/site-packages/scipy/optimize/optimize.py:628: RuntimeWarning: invalid value encountered in double_scalars\n",
      "  grad[k] = (f(*((xk + d,) + args)) - f0) / d[k]\n"
     ]
    },
    {
     "name": "stdout",
     "output_type": "stream",
     "text": [
      "On iteration 100, residual is 0.00011472408593958927\n"
     ]
    },
    {
     "name": "stderr",
     "output_type": "stream",
     "text": [
      "/home/alexander/anaconda3/lib/python3.6/site-packages/scipy/integrate/odepack.py:218: ODEintWarning: Excess work done on this call (perhaps wrong Dfun type). Run with full_output = 1 to get quantitative information.\n",
      "  warnings.warn(warning_msg, ODEintWarning)\n"
     ]
    },
    {
     "name": "stdout",
     "output_type": "stream",
     "text": [
      "Result after this step:\n",
      "array([ 0.        ,  1.00000686,  0.        ,  0.        ,  0.        ,\n",
      "       -1.00000972,  0.        ,  0.        ,  0.        ,  0.        ,\n",
      "        0.        ,  0.        , -1.00003163,  0.        ,  0.        ,\n",
      "        1.00000499,  0.        ,  0.        , -1.00000003,  0.        ,\n",
      "        0.        ,  0.        ,  0.        , -0.99998445,  0.        ,\n",
      "        0.        ,  0.        ,  0.        ,  1.0000026 ,  0.        ])\n",
      "Restarting process after removing extraneous coefficients...\n",
      "On iteration 0, residual is 0.00011460802136964002\n"
     ]
    },
    {
     "name": "stderr",
     "output_type": "stream",
     "text": [
      "/home/alexander/anaconda3/lib/python3.6/site-packages/scipy/integrate/odepack.py:218: ODEintWarning: Excess work done on this call (perhaps wrong Dfun type). Run with full_output = 1 to get quantitative information.\n",
      "  warnings.warn(warning_msg, ODEintWarning)\n",
      "/home/alexander/anaconda3/lib/python3.6/site-packages/ipykernel_launcher.py:45: RuntimeWarning: overflow encountered in square\n",
      "/home/alexander/anaconda3/lib/python3.6/site-packages/scipy/optimize/optimize.py:628: RuntimeWarning: invalid value encountered in double_scalars\n",
      "  grad[k] = (f(*((xk + d,) + args)) - f0) / d[k]\n"
     ]
    },
    {
     "name": "stdout",
     "output_type": "stream",
     "text": [
      "On iteration 100, residual is 0.00011472408593958927\n"
     ]
    },
    {
     "name": "stderr",
     "output_type": "stream",
     "text": [
      "/home/alexander/anaconda3/lib/python3.6/site-packages/scipy/integrate/odepack.py:218: ODEintWarning: Excess work done on this call (perhaps wrong Dfun type). Run with full_output = 1 to get quantitative information.\n",
      "  warnings.warn(warning_msg, ODEintWarning)\n"
     ]
    },
    {
     "name": "stdout",
     "output_type": "stream",
     "text": [
      "Result after this step:\n",
      "array([ 0.        ,  1.00000686,  0.        ,  0.        ,  0.        ,\n",
      "       -1.00000972,  0.        ,  0.        ,  0.        ,  0.        ,\n",
      "        0.        ,  0.        , -1.00003163,  0.        ,  0.        ,\n",
      "        1.00000499,  0.        ,  0.        , -1.00000003,  0.        ,\n",
      "        0.        ,  0.        ,  0.        , -0.99998445,  0.        ,\n",
      "        0.        ,  0.        ,  0.        ,  1.0000026 ,  0.        ])\n",
      "Restarting process after removing extraneous coefficients...\n",
      "On iteration 0, residual is 0.00011460802136964002\n"
     ]
    },
    {
     "name": "stderr",
     "output_type": "stream",
     "text": [
      "/home/alexander/anaconda3/lib/python3.6/site-packages/scipy/integrate/odepack.py:218: ODEintWarning: Excess work done on this call (perhaps wrong Dfun type). Run with full_output = 1 to get quantitative information.\n",
      "  warnings.warn(warning_msg, ODEintWarning)\n",
      "/home/alexander/anaconda3/lib/python3.6/site-packages/ipykernel_launcher.py:45: RuntimeWarning: overflow encountered in square\n",
      "/home/alexander/anaconda3/lib/python3.6/site-packages/scipy/optimize/optimize.py:628: RuntimeWarning: invalid value encountered in double_scalars\n",
      "  grad[k] = (f(*((xk + d,) + args)) - f0) / d[k]\n"
     ]
    },
    {
     "name": "stdout",
     "output_type": "stream",
     "text": [
      "On iteration 100, residual is 0.00011472408593958927\n"
     ]
    },
    {
     "name": "stderr",
     "output_type": "stream",
     "text": [
      "/home/alexander/anaconda3/lib/python3.6/site-packages/scipy/integrate/odepack.py:218: ODEintWarning: Excess work done on this call (perhaps wrong Dfun type). Run with full_output = 1 to get quantitative information.\n",
      "  warnings.warn(warning_msg, ODEintWarning)\n"
     ]
    },
    {
     "name": "stdout",
     "output_type": "stream",
     "text": [
      "Result after this step:\n",
      "array([ 0.        ,  1.00000686,  0.        ,  0.        ,  0.        ,\n",
      "       -1.00000972,  0.        ,  0.        ,  0.        ,  0.        ,\n",
      "        0.        ,  0.        , -1.00003163,  0.        ,  0.        ,\n",
      "        1.00000499,  0.        ,  0.        , -1.00000003,  0.        ,\n",
      "        0.        ,  0.        ,  0.        , -0.99998445,  0.        ,\n",
      "        0.        ,  0.        ,  0.        ,  1.0000026 ,  0.        ])\n",
      "Restarting process after removing extraneous coefficients...\n",
      "On iteration 0, residual is 0.00011460802136964002\n"
     ]
    },
    {
     "name": "stderr",
     "output_type": "stream",
     "text": [
      "/home/alexander/anaconda3/lib/python3.6/site-packages/scipy/integrate/odepack.py:218: ODEintWarning: Excess work done on this call (perhaps wrong Dfun type). Run with full_output = 1 to get quantitative information.\n",
      "  warnings.warn(warning_msg, ODEintWarning)\n",
      "/home/alexander/anaconda3/lib/python3.6/site-packages/ipykernel_launcher.py:45: RuntimeWarning: overflow encountered in square\n",
      "/home/alexander/anaconda3/lib/python3.6/site-packages/scipy/optimize/optimize.py:628: RuntimeWarning: invalid value encountered in double_scalars\n",
      "  grad[k] = (f(*((xk + d,) + args)) - f0) / d[k]\n"
     ]
    },
    {
     "name": "stdout",
     "output_type": "stream",
     "text": [
      "On iteration 100, residual is 0.00011472408593958927\n"
     ]
    },
    {
     "name": "stderr",
     "output_type": "stream",
     "text": [
      "/home/alexander/anaconda3/lib/python3.6/site-packages/scipy/integrate/odepack.py:218: ODEintWarning: Excess work done on this call (perhaps wrong Dfun type). Run with full_output = 1 to get quantitative information.\n",
      "  warnings.warn(warning_msg, ODEintWarning)\n"
     ]
    },
    {
     "name": "stdout",
     "output_type": "stream",
     "text": [
      "Result after this step:\n",
      "array([ 0.        ,  1.00000686,  0.        ,  0.        ,  0.        ,\n",
      "       -1.00000972,  0.        ,  0.        ,  0.        ,  0.        ,\n",
      "        0.        ,  0.        , -1.00003163,  0.        ,  0.        ,\n",
      "        1.00000499,  0.        ,  0.        , -1.00000003,  0.        ,\n",
      "        0.        ,  0.        ,  0.        , -0.99998445,  0.        ,\n",
      "        0.        ,  0.        ,  0.        ,  1.0000026 ,  0.        ])\n",
      "Restarting process after removing extraneous coefficients...\n"
     ]
    }
   ],
   "source": [
    "# Method that uses scipy.integrate.odeint to approximate trajectories given coefficients\n",
    "\n",
    "import numpy as np\n",
    "np.random.seed(1337)\n",
    "import matplotlib.pyplot as plt\n",
    "from matplotlib.gridspec import GridSpec\n",
    "import matplotlib.patches as patches\n",
    "from mpl_toolkits.mplot3d import Axes3D\n",
    "from sklearn.preprocessing import PolynomialFeatures\n",
    "from Lotka_Volterra import Lotka_Volterra\n",
    "\n",
    "alpha = np.array([1, -1, -1])\n",
    "beta = np.array([[0, -1, 0], [1, 0, -1], [0, 1, 0]])\n",
    "# choose points that are not uniformly spaced\n",
    "t = np.sort(np.random.uniform(0, 5, 2000))\n",
    "trajectories = []\n",
    "total = 0\n",
    "while total < 10:\n",
    "    x0 = np.random.uniform(-2, 2, 3) # Initial condition.\n",
    "    x, dx = Lotka_Volterra(x0, alpha, beta, t)\n",
    "    if np.max(np.abs(x)) > 10:\n",
    "        continue\n",
    "    trajectories.append(x)\n",
    "    total += 1\n",
    "trajectories = np.array(trajectories)\n",
    "l1 = 0.01\n",
    "degree = 2\n",
    "num_coeffs = 10\n",
    "library = PolynomialFeatures(degree=degree, include_bias=True)\n",
    "\n",
    "x0 = [1e-3] * (3*num_coeffs) # initialize coefficients to be small values \n",
    "l2 = 0.01\n",
    "iter_num = 0\n",
    "\n",
    "def system_vals(y0, t, coeffs):\n",
    "    Theta = library.fit_transform([y0])\n",
    "    A = block_diag(Theta, Theta, Theta)\n",
    "    return A @ coeffs\n",
    "\n",
    "def f(y):\n",
    "    global iter_num\n",
    "    diff_sq = 0\n",
    "    for ind, trajectory in enumerate(trajectories):\n",
    "        initial = trajectory[0]\n",
    "        x_est = odeint(system_vals, initial, t, args=(y,))\n",
    "        diff_sq += np.sum((trajectory - x_est) ** 2)\n",
    "    if iter_num % 100 == 0:\n",
    "        print('On iteration {}, residual is {}'.format(iter_num, diff_sq))\n",
    "    iter_num += 1\n",
    "    \n",
    "    return diff_sq\n",
    "\n",
    "for _ in range(5):\n",
    "    res = minimize(f, x0, tol=1e-5)\n",
    "    print('Result after this step:')\n",
    "    pprint(res.x)\n",
    "    coeffs = res.x\n",
    "    for i in range(3):\n",
    "        coeff_block = coeffs[i*num_coeffs:(i+1)*num_coeffs]\n",
    "        xmax = abs(coeff_block[np.nonzero(coeff_block)]).mean()\n",
    "        to_remove = [k for k in range(len(coeff_block)) if abs(coeff_block[k]) < l1*xmax]\n",
    "        for k in to_remove:\n",
    "            coeffs[i*num_coeffs + k] = 0\n",
    "    x0 = coeffs\n",
    "    iter_num = 0\n",
    "    print('Restarting process after removing extraneous coefficients...')"
   ]
  },
  {
   "cell_type": "code",
   "execution_count": 31,
   "metadata": {
    "collapsed": true
   },
   "outputs": [],
   "source": [
    "import numpy as np\n",
    "from cvxopt import solvers, matrix, spmatrix\n",
    "from scipy import sparse\n",
    "from scipy.linalg import norm\n",
    "\n",
    "def approx_derivative(x, t):\n",
    "    # compute differences in x\n",
    "    dx = np.zeros_like(x)\n",
    "    dx[1:-1, :] = (x[2:, :] - x[:-2, :])\n",
    "    dx[0,:]    = (x[1,:] - x[0,:])\n",
    "    dx[-1,:]   = (x[-1,:] - x[-2,:])\n",
    "    # compute differences in t\n",
    "    dt = np.zeros_like(t)\n",
    "    dt[1:-1] = (t[2:] - t[:-2])\n",
    "    dt[0]    = (t[1] - t[0])\n",
    "    dt[-1]   = (t[-1] - t[-2])\n",
    "    \n",
    "    return (dx/dt[:, None]).flatten(order='F')\n",
    "\n",
    "def numpy_to_cvxopt_matrix(A):\n",
    "    '''\n",
    "    This function takes as input a numpy/SciPy array/matrix and converts it to a CVX\n",
    "     format.\n",
    "\n",
    "    Inputs:\n",
    "    ------\n",
    "        A : NumPy/SciPy array or matrix.\n",
    "\n",
    "    Outputs:\n",
    "    -------\n",
    "        A : Corresponding matrix in CVX format.\n",
    "    '''\n",
    "\n",
    "    # --> None case.\n",
    "    if A is None:\n",
    "        return None\n",
    "\n",
    "    # --> sparse SciPy case.\n",
    "    if sparse.issparse(A):\n",
    "        if isinstance(A, sparse.spmatrix):\n",
    "            return scipy_sparse_to_spmatrix(A)\n",
    "        else:\n",
    "            return A\n",
    "    else:\n",
    "    # --> Dense matrix or NumPy array.\n",
    "        if isinstance(A, np.ndarray):\n",
    "            if A.ndim == 1:\n",
    "                return matrix(A, (A.shape[0], 1), 'd')\n",
    "            else:\n",
    "                return matrix(A, A.shape, 'd')\n",
    "        else:\n",
    "            return A"
   ]
  },
  {
   "cell_type": "code",
   "execution_count": 33,
   "metadata": {},
   "outputs": [
    {
     "name": "stderr",
     "output_type": "stream",
     "text": [
      "/home/alexander/anaconda3/lib/python3.6/site-packages/scipy/integrate/odepack.py:218: ODEintWarning: Excess work done on this call (perhaps wrong Dfun type). Run with full_output = 1 to get quantitative information.\n",
      "  warnings.warn(warning_msg, ODEintWarning)\n",
      "/home/alexander/anaconda3/lib/python3.6/site-packages/cvxopt/coneprog.py:4329: FutureWarning: elementwise comparison failed; returning scalar instead, but in the future will perform elementwise comparison\n",
      "  if solver == 'mosek':\n"
     ]
    },
    {
     "name": "stdout",
     "output_type": "stream",
     "text": [
      "After iteration 0 we have the coefficients\n",
      "[ 0.          0.99999689  0.          0.          0.         -0.99999671\n",
      "  0.          0.          0.          0.          0.          0.         -0.9999949\n",
      "  0.          0.          0.99999584  0.          0.         -0.99999752\n",
      "  0.          0.          0.          0.         -0.99999775  0.          0.\n",
      "  0.          0.          0.99999769  0.        ]\n",
      "After iteration 1 we have the coefficients\n",
      "[ 0.          0.99999689  0.          0.          0.         -0.99999671\n",
      "  0.          0.          0.          0.          0.          0.         -0.9999949\n",
      "  0.          0.          0.99999584  0.          0.         -0.99999752\n",
      "  0.          0.          0.          0.         -0.99999775  0.          0.\n",
      "  0.          0.          0.99999769  0.        ]\n",
      "After iteration 2 we have the coefficients\n",
      "[ 0.          0.99999689  0.          0.          0.         -0.99999671\n",
      "  0.          0.          0.          0.          0.          0.         -0.9999949\n",
      "  0.          0.          0.99999584  0.          0.         -0.99999752\n",
      "  0.          0.          0.          0.         -0.99999775  0.          0.\n",
      "  0.          0.          0.99999769  0.        ]\n",
      "After iteration 3 we have the coefficients\n",
      "[ 0.          0.99999689  0.          0.          0.         -0.99999671\n",
      "  0.          0.          0.          0.          0.          0.         -0.9999949\n",
      "  0.          0.          0.99999584  0.          0.         -0.99999752\n",
      "  0.          0.          0.          0.         -0.99999775  0.          0.\n",
      "  0.          0.          0.99999769  0.        ]\n",
      "After iteration 4 we have the coefficients\n",
      "[ 0.          0.99999689  0.          0.          0.         -0.99999671\n",
      "  0.          0.          0.          0.          0.          0.         -0.9999949\n",
      "  0.          0.          0.99999584  0.          0.         -0.99999752\n",
      "  0.          0.          0.          0.         -0.99999775  0.          0.\n",
      "  0.          0.          0.99999769  0.        ]\n"
     ]
    }
   ],
   "source": [
    "# Method that uses derivative approximation \n",
    "# Does not appear to work very well \n",
    "from cvxopt import solvers\n",
    "import numpy as np\n",
    "np.random.seed(1337)\n",
    "import matplotlib.pyplot as plt\n",
    "from matplotlib.gridspec import GridSpec\n",
    "import matplotlib.patches as patches\n",
    "from mpl_toolkits.mplot3d import Axes3D\n",
    "from scipy.optimize import least_squares\n",
    "from scipy.linalg import block_diag\n",
    "from scipy.sparse import csr_matrix\n",
    "from sklearn.preprocessing import PolynomialFeatures\n",
    "from Lotka_Volterra import Lotka_Volterra\n",
    "from sparse_identification.solvers import hard_threshold_lstsq_solve\n",
    "from sparse_identification.utils import derivative\n",
    "\n",
    "alpha = np.array([1, -1, -1])\n",
    "beta = np.array([[0, -1, 0], [1, 0, -1], [0, 1, 0]])\n",
    "# choose points that are not uniformly spaced\n",
    "t = np.sort(np.random.uniform(0, 20, 20000))\n",
    "trajectories = []\n",
    "total = 0\n",
    "while total < 5:\n",
    "    x0 = np.random.uniform(-2, 2, 3) # Initial condition.\n",
    "    x, dx = Lotka_Volterra(x0, alpha, beta, t)\n",
    "    if np.max(np.abs(x)) > 10:\n",
    "        continue\n",
    "    trajectories.append(x)\n",
    "    total += 1\n",
    "trajectories = np.array(trajectories)\n",
    "l1 = 0.01\n",
    "degree = 2\n",
    "num_coeffs = 10\n",
    "library = PolynomialFeatures(degree=degree, include_bias=True)\n",
    "\n",
    "x0 = [1e-3] * (3*num_coeffs) # initialize coefficients to be small values \n",
    "l2 = 0.01\n",
    "iter_num = 0\n",
    "\n",
    "def minimize_diff(x0):\n",
    "    global iter_num\n",
    "    diff_sq = 0\n",
    "    A, b = [], []\n",
    "    for ind, trajectory in enumerate(trajectories):\n",
    "        deriv_est_lhs = approx_derivative(trajectory, t) # approximated derivates in LHS of system \n",
    "        b.append(deriv_est_lhs)\n",
    "        Theta = library.fit_transform(trajectory)\n",
    "        A_traj = block_diag(Theta, Theta, Theta)\n",
    "        A.append(A_traj)\n",
    "    A = np.concatenate(A)\n",
    "    b = np.concatenate(b)\n",
    "    coeffs = hard_threshold_lstsq_solve(A, b)\n",
    "    #coeffs = least_squares(lambda x: A @ x - b, x0).x\n",
    "    return coeffs\n",
    "\n",
    "for _ in range(5):\n",
    "    coeffs = minimize_diff(x0)\n",
    "    for i in range(3):\n",
    "        coeff_block = coeffs[i*num_coeffs:(i+1)*num_coeffs]\n",
    "        xmax = abs(coeff_block[np.nonzero(coeff_block)]).mean()\n",
    "        to_remove = [k for k in range(len(coeff_block)) if abs(coeff_block[k]) < l1*xmax]\n",
    "        for k in to_remove:\n",
    "            coeffs[i*num_coeffs + k] = 0\n",
    "    x0 = coeffs\n",
    "    print('After iteration {} we have the coefficients'.format(_))\n",
    "    print(x0)"
   ]
  },
  {
   "cell_type": "code",
   "execution_count": 21,
   "metadata": {},
   "outputs": [
    {
     "name": "stderr",
     "output_type": "stream",
     "text": [
      "/home/alexander/anaconda3/lib/python3.6/site-packages/scipy/integrate/odepack.py:218: ODEintWarning: Excess work done on this call (perhaps wrong Dfun type). Run with full_output = 1 to get quantitative information.\n",
      "  warnings.warn(warning_msg, ODEintWarning)\n",
      "/home/alexander/anaconda3/lib/python3.6/site-packages/cvxopt/coneprog.py:4329: FutureWarning: elementwise comparison failed; returning scalar instead, but in the future will perform elementwise comparison\n",
      "  if solver == 'mosek':\n"
     ]
    },
    {
     "data": {
      "image/png": "[encoded data removed]",
      "text/plain": [
       "<matplotlib.figure.Figure at 0x7f336cb2b2b0>"
      ]
     },
     "metadata": {},
     "output_type": "display_data"
    },
    {
     "data": {
      "image/png": "[encoded data removed]",
      "text/plain": [
       "<matplotlib.figure.Figure at 0x7f336c6d5d30>"
      ]
     },
     "metadata": {},
     "output_type": "display_data"
    },
    {
     "data": {
      "image/png": "[encoded data removed]",
      "text/plain": [
       "<matplotlib.figure.Figure at 0x7f336cc2fc50>"
      ]
     },
     "metadata": {},
     "output_type": "display_data"
    }
   ],
   "source": [
    "import numpy as np\n",
    "from sparse_identification import sindy\n",
    "from scipy.linalg import block_diag\n",
    "from scipy.integrate import odeint\n",
    "from sklearn.preprocessing import PolynomialFeatures\n",
    "import matplotlib.pyplot as plt\n",
    "from Lotka_Volterra import Lotka_Volterra, Identified_Model\n",
    "\n",
    "alpha = np.array([1, -1, -1])\n",
    "beta = np.array([[0, -1, 0], [1, 0, -1], [0, 1, 0]])\n",
    "t = np.linspace(0, 5, 2000)\n",
    "total = 0\n",
    "while total < 5:\n",
    "    x0 = np.random.uniform(-2, 2, 3) # Initial condition.\n",
    "    x, dx = Lotka_Volterra(x0, alpha, beta, t, noise=0.001)\n",
    "    if np.max(np.abs(x)) > 10 or np.any(np.isnan(x)):\n",
    "        continue\n",
    "    total += 1\n",
    "\n",
    "library = PolynomialFeatures(degree=2, include_bias=True)\n",
    "Theta = library.fit_transform(x)\n",
    "n_lib = library.n_output_features_\n",
    "A = block_diag(Theta, Theta, Theta)\n",
    "b = dx.flatten(order='F')\n",
    "\n",
    "shols = sindy(l1=0.01, solver='lstsq')\n",
    "shols.fit(A, b)\n",
    "x_ident = odeint(Identified_Model, x0, t, args=(library, shols))\n",
    "for i in range(x_ident.shape[1]):\n",
    "    plt.plot(t, x_ident[:, i], label='Estimate')\n",
    "    plt.plot(t, x[:, i], label='Actual')\n",
    "    plt.legend()\n",
    "    plt.show()"
   ]
  },
  {
   "cell_type": "code",
   "execution_count": 56,
   "metadata": {},
   "outputs": [
    {
     "name": "stderr",
     "output_type": "stream",
     "text": [
      "/home/alexander/anaconda3/lib/python3.6/site-packages/scipy/integrate/odepack.py:218: ODEintWarning: Excess work done on this call (perhaps wrong Dfun type). Run with full_output = 1 to get quantitative information.\n",
      "  warnings.warn(warning_msg, ODEintWarning)\n",
      "/home/alexander/anaconda3/lib/python3.6/site-packages/cvxopt/coneprog.py:4329: FutureWarning: elementwise comparison failed; returning scalar instead, but in the future will perform elementwise comparison\n",
      "  if solver == 'mosek':\n"
     ]
    },
    {
     "data": {
      "image/png": "[encoded data removed]",
      "text/plain": [
       "<matplotlib.figure.Figure at 0x7f339c272f28>"
      ]
     },
     "metadata": {},
     "output_type": "display_data"
    },
    {
     "data": {
      "image/png": "[encoded data removed]",
      "text/plain": [
       "<matplotlib.figure.Figure at 0x7f336c972f60>"
      ]
     },
     "metadata": {},
     "output_type": "display_data"
    },
    {
     "data": {
      "image/png": "[encoded data removed]",
      "text/plain": [
       "<matplotlib.figure.Figure at 0x7f336c8e67f0>"
      ]
     },
     "metadata": {},
     "output_type": "display_data"
    }
   ],
   "source": [
    "import numpy as np\n",
    "from sparse_identification import sindy\n",
    "from scipy.linalg import block_diag\n",
    "from scipy.integrate import odeint\n",
    "from sklearn.preprocessing import PolynomialFeatures\n",
    "import matplotlib.pyplot as plt\n",
    "from Lotka_Volterra import Lotka_Volterra, Identified_Model\n",
    "\n",
    "alpha = np.array([1, -1, -1])\n",
    "beta = np.array([[0, -1, 0], [1, 0, -1], [0, 1, 0]])\n",
    "t = np.linspace(0, 5, 2000)\n",
    "t_extended = np.linspace(0, 20, 2000)\n",
    "total = 0\n",
    "while total < 5:\n",
    "    x0 = np.random.uniform(-2, 2, 3) # Initial condition.\n",
    "    x, dx = Lotka_Volterra(x0, alpha, beta, t, noise=0.001)\n",
    "    if np.max(np.abs(x)) > 10 or np.any(np.isnan(x)):\n",
    "        continue\n",
    "    total += 1\n",
    "\n",
    "library = PolynomialFeatures(degree=2, include_bias=True)\n",
    "Theta = library.fit_transform(x)\n",
    "n_lib = library.n_output_features_\n",
    "A = block_diag(Theta, Theta, Theta)\n",
    "b = dx.flatten(order='F')\n",
    "\n",
    "shols = sindy(l1=0.01, solver='lstsq')\n",
    "shols.fit(A, b)\n",
    "x_ident = odeint(Identified_Model, x0, t_extended, args=(library, shols))\n",
    "x_extended, _ = Lotka_Volterra(x0, alpha, beta, t_extended, noise=0.001)\n",
    "for i in range(x_ident.shape[1]):\n",
    "    plt.plot(t_extended, x_ident[:, i], label='Estimate')\n",
    "    plt.plot(t_extended, x_extended[:, i], label='Actual')\n",
    "    plt.legend()\n",
    "    plt.show()"
   ]
  },
  {
   "cell_type": "code",
   "execution_count": 22,
   "metadata": {},
   "outputs": [
    {
     "data": {
      "text/plain": [
       "array([  2.46085874,  -0.07313917,  -5.6199511 ,  -1.72823288,\n",
       "         0.26889164,   0.        ,   0.20115408,   1.09673366,\n",
       "         2.7075639 ,   0.99362298,   9.28327624,   0.17889204,\n",
       "       -11.94268805,   2.87693152,   0.18835661,   2.92790161,\n",
       "       -10.64651369,   2.16568192,   4.21142359,  -0.60010986,\n",
       "        -0.80533603,   0.42588474,   3.40650807,  -0.72014922,\n",
       "        -0.13499181,  -0.60082558,  -0.20865381,  -0.67282662,\n",
       "        -0.62445181,  -0.2682938 ])"
      ]
     },
     "execution_count": 22,
     "metadata": {},
     "output_type": "execute_result"
    }
   ],
   "source": [
    "shols.coef_"
   ]
  },
  {
   "cell_type": "code",
   "execution_count": 58,
   "metadata": {},
   "outputs": [
    {
     "name": "stderr",
     "output_type": "stream",
     "text": [
      "/home/alexander/anaconda3/lib/python3.6/site-packages/scipy/integrate/odepack.py:218: ODEintWarning: Excess work done on this call (perhaps wrong Dfun type). Run with full_output = 1 to get quantitative information.\n",
      "  warnings.warn(warning_msg, ODEintWarning)\n",
      "/home/alexander/anaconda3/lib/python3.6/site-packages/cvxopt/coneprog.py:4329: FutureWarning: elementwise comparison failed; returning scalar instead, but in the future will perform elementwise comparison\n",
      "  if solver == 'mosek':\n"
     ]
    },
    {
     "data": {
      "image/png": "[encoded data removed]",
      "text/plain": [
       "<matplotlib.figure.Figure at 0x7f336c9c5e10>"
      ]
     },
     "metadata": {},
     "output_type": "display_data"
    }
   ],
   "source": [
    "import numpy as np\n",
    "np.random.seed(1337)\n",
    "from sparse_identification import sindy\n",
    "from scipy.linalg import block_diag\n",
    "from scipy.integrate import odeint\n",
    "from sklearn.preprocessing import PolynomialFeatures\n",
    "import matplotlib.pyplot as plt\n",
    "from Lotka_Volterra import Lotka_Volterra, Identified_Model\n",
    "\n",
    "alpha = np.array([1, -1, -1])\n",
    "beta = np.array([[0, -1, 0], [1, 0, -1], [0, 1, 0]])\n",
    "t = np.linspace(0, 5, 2000)\n",
    "noise_level = np.logspace(-5, -1, 50)\n",
    "diff = []\n",
    "for noise in noise_level:\n",
    "    noise_diff = []\n",
    "    for _ in range(10):\n",
    "        total = 0\n",
    "        while total < 5:\n",
    "            x0 = np.random.uniform(-2, 2, 3) # Initial condition.\n",
    "            x, dx = Lotka_Volterra(x0, alpha, beta, t, noise=noise)\n",
    "            if np.max(np.abs(x)) > 10 or np.any(np.isnan(x)):\n",
    "                continue\n",
    "            total += 1\n",
    "\n",
    "        library = PolynomialFeatures(degree=2, include_bias=True)\n",
    "        Theta = library.fit_transform(x)\n",
    "        n_lib = library.n_output_features_\n",
    "        A = block_diag(Theta, Theta, Theta)\n",
    "        b = dx.flatten(order='F')\n",
    "\n",
    "        shols = sindy(l1=0.01, solver='lstsq')\n",
    "        shols.fit(A, b)\n",
    "        x_ident = odeint(Identified_Model, x0, t, args=(library, shols))\n",
    "        inf_norm = np.max(np.abs(x_ident.T - x.T), axis=1)\n",
    "        noise_diff.append(inf_norm)\n",
    "    diff.append(np.mean(noise_diff, axis=0))\n",
    "\n",
    "\n",
    "plt.plot(np.log10(noise_level), np.log10(diff))\n",
    "plt.title('Infinity Norm between Trajectories - $t \\in [0, 5]$')\n",
    "plt.xlabel('Log(Noise Level)')\n",
    "plt.ylabel('Log(Infinity Norm)')\n",
    "plt.savefig('31_a.png')\n",
    "plt.show()"
   ]
  },
  {
   "cell_type": "code",
   "execution_count": 59,
   "metadata": {},
   "outputs": [
    {
     "name": "stderr",
     "output_type": "stream",
     "text": [
      "/home/alexander/anaconda3/lib/python3.6/site-packages/scipy/integrate/odepack.py:218: ODEintWarning: Excess work done on this call (perhaps wrong Dfun type). Run with full_output = 1 to get quantitative information.\n",
      "  warnings.warn(warning_msg, ODEintWarning)\n",
      "/home/alexander/anaconda3/lib/python3.6/site-packages/cvxopt/coneprog.py:4329: FutureWarning: elementwise comparison failed; returning scalar instead, but in the future will perform elementwise comparison\n",
      "  if solver == 'mosek':\n"
     ]
    },
    {
     "data": {
      "image/png": "[encoded data removed]",
      "text/plain": [
       "<matplotlib.figure.Figure at 0x7f336cc10208>"
      ]
     },
     "metadata": {},
     "output_type": "display_data"
    }
   ],
   "source": [
    "import numpy as np\n",
    "np.random.seed(1337)\n",
    "from sparse_identification import sindy\n",
    "from scipy.linalg import block_diag\n",
    "from scipy.integrate import odeint\n",
    "from sklearn.preprocessing import PolynomialFeatures\n",
    "import matplotlib.pyplot as plt\n",
    "from Lotka_Volterra import Lotka_Volterra, Identified_Model\n",
    "\n",
    "alpha = np.array([1, -1, -1])\n",
    "beta = np.array([[0, -1, 0], [1, 0, -1], [0, 1, 0]])\n",
    "t = np.linspace(0, 5, 2000)\n",
    "t_extended = np.linspace(5, 10, 2000)\n",
    "noise_level = np.logspace(-5, -1, 50)\n",
    "diff = []\n",
    "for noise in noise_level:\n",
    "    noise_diff = []\n",
    "    for _ in range(10):\n",
    "        total = 0\n",
    "        while total < 5:\n",
    "            x0 = np.random.uniform(-2, 2, 3) # Initial condition.\n",
    "            x, dx = Lotka_Volterra(x0, alpha, beta, t, noise=noise)\n",
    "            if np.max(np.abs(x)) > 10 or np.any(np.isnan(x)):\n",
    "                continue\n",
    "            total += 1\n",
    "\n",
    "        library = PolynomialFeatures(degree=2, include_bias=True)\n",
    "        Theta = library.fit_transform(x)\n",
    "        n_lib = library.n_output_features_\n",
    "        A = block_diag(Theta, Theta, Theta)\n",
    "        b = dx.flatten(order='F')\n",
    "\n",
    "        shols = sindy(l1=0.01, solver='lstsq')\n",
    "        shols.fit(A, b)\n",
    "        x_ident = odeint(Identified_Model, x0, t_extended, args=(library, shols))\n",
    "        x_extended, _ = Lotka_Volterra(x0, alpha, beta, t_extended, noise=noise) \n",
    "        inf_norm = np.max(np.abs(x_ident.T - x_extended.T), axis=1)\n",
    "        noise_diff.append(inf_norm)\n",
    "    diff.append(np.mean(noise_diff, axis=0))\n",
    "\n",
    "\n",
    "plt.plot(np.log10(noise_level), np.log10(diff))\n",
    "plt.title('Infinity Norm between Trajectories - $t \\in [5, 10]$')\n",
    "plt.xlabel('Log(Noise Level)')\n",
    "plt.ylabel('Log(Infinity Norm)')\n",
    "plt.savefig('31_b.png')\n",
    "plt.show()"
   ]
  },
  {
   "cell_type": "code",
   "execution_count": null,
   "metadata": {
    "collapsed": true
   },
   "outputs": [],
   "source": []
  }
 ],
 "metadata": {
  "kernelspec": {
   "display_name": "Python 3",
   "language": "python",
   "name": "python3"
  },
  "language_info": {
   "codemirror_mode": {
    "name": "ipython",
    "version": 3
   },
   "file_extension": ".py",
   "mimetype": "text/x-python",
   "name": "python",
   "nbconvert_exporter": "python",
   "pygments_lexer": "ipython3",
   "version": "3.6.3"
  }
 },
 "nbformat": 4,
 "nbformat_minor": 2
}
